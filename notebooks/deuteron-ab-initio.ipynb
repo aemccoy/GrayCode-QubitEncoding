{
 "cells": [
  {
   "cell_type": "markdown",
   "metadata": {},
   "source": [
    "# Gray code encoding for ab initio interaction"
   ]
  },
  {
   "cell_type": "code",
   "execution_count": 1,
   "metadata": {},
   "outputs": [],
   "source": [
    "import numpy as np\n",
    "np.warnings.filterwarnings('ignore')\n",
    "\n",
    "import pickle\n",
    "\n",
    "from scipy.linalg import expm\n",
    "# import scipy\n",
    "from pprint import pprint\n",
    "from tqdm import tqdm\n",
    "\n",
    "from scipy.linalg import lstsq\n",
    "import scipy as sp\n",
    "\n",
    "# Everything we need from Qiskit\n",
    "from qiskit import ClassicalRegister, QuantumRegister, QuantumCircuit\n",
    "from qiskit import execute, Aer\n",
    "from qiskit.quantum_info import Pauli\n",
    "\n",
    "from qiskit.aqua.operators import WeightedPauliOperator\n",
    "from qiskit.aqua.components.initial_states import Custom\n",
    "\n",
    "import qutip as qt\n",
    "from tqdm import tqdm\n",
    "\n",
    "import matplotlib.pyplot as plt\n",
    "import seaborn as sns\n",
    "sns.set_style('whitegrid')\n",
    "sns.set(rc={'figure.figsize':(16,8)})\n",
    "sns.set()\n",
    "\n",
    "import itertools\n",
    "\n",
    "import sys\n",
    "sys.path.append(\"../src/\")\n",
    "from hamiltonian import *\n",
    "from utils import *\n",
    "from qiskit_circuits import *\n",
    "from qiskit_experiment import *\n",
    "from qite import *"
   ]
  },
  {
   "cell_type": "markdown",
   "metadata": {},
   "source": [
    "## Playing with Pauli and WeightedPauli operators"
   ]
  },
  {
   "cell_type": "code",
   "execution_count": 2,
   "metadata": {},
   "outputs": [
    {
     "name": "stdout",
     "output_type": "stream",
     "text": [
      "{(0, 0, 1, 1, 0): 0, (2, 0, 1, 1, 0): 1, (4, 0, 1, 1, 0): 2}\n",
      "n qubits 2\n",
      "(7.7658547225+0j) [] +\n",
      "(-2.1433035249352805+0j) [X0] +\n",
      "(-2.1433035249352805+0j) [X0 Z1] +\n",
      "(-7.9841452775+0j) [Z0] +\n",
      "(3.913118960624632+0j) [Z0 X1] +\n",
      "(1.6408547225000003+0j) [Z0 Z1] +\n",
      "(-3.913118960624632+0j) [X1] +\n",
      "(-1.8591452774999997+0j) [Z1]\n",
      "\n",
      "eigenvalues\n",
      "[-2.045671  8.561582 24.547508]\n"
     ]
    }
   ],
   "source": [
    "## H is always in qiskit order (right to left)\n",
    "## String form is also in that order \n",
    "## State vector results in order [00,01,10,11]\n",
    "from scipy.linalg import eigh\n",
    "\n",
    "J=1\n",
    "Nmax=4\n",
    "hw=1.0 ## reset by toy hamiltonian\n",
    "basis=generate_relative_states(Nmax,J,L=0)\n",
    "print(basis)\n",
    "H = hamiltonian_matrix(Nmax=4,J=1,interaction=\"toy\")\n",
    "# print(H)\n",
    "\n",
    "H_graycode=GrayCodeHamiltonian(H)\n",
    "\n",
    "n_qubits=H_graycode.N_qubits\n",
    "print(\"n qubits\",n_qubits)\n",
    "\n",
    "\n",
    "# print(H_graycode.N_qubits)\n",
    "# print(H_graycode.state_order)\n",
    "# print(H_graycode.permutation)\n",
    "# print(\"pauli rep\")\n",
    "print(H_graycode.pauli_rep)\n",
    "print(\"\")\n",
    "# p=_partition(H_graycode)\n",
    "# print(p)\n",
    "# print(\"\")\n",
    "# print(H_graycode.to_dict)\n",
    "# print(H_graycode.pauli_partitions)\n",
    "# print(H_graycode.matrix)\n",
    "# print(\"\")\n",
    "\n",
    "\n",
    "eigs,_=eigh(H)\n",
    "print(\"eigenvalues\")\n",
    "print(eigs)"
   ]
  },
  {
   "cell_type": "code",
   "execution_count": 3,
   "metadata": {},
   "outputs": [
    {
     "name": "stdout",
     "output_type": "stream",
     "text": [
      "key, [paulis in set]\n",
      "XX ['XX', 'XI', 'II', 'IX']\n",
      "XZ ['XZ', 'IZ']\n",
      "YY ['YY', 'IY', 'YI']\n",
      "ZY ['ZY', 'ZI']\n",
      "ZX ['ZX']\n",
      "XY ['XY']\n",
      "YX ['YX']\n",
      "YZ ['YZ']\n",
      "ZZ ['ZZ']\n"
     ]
    }
   ],
   "source": [
    "## vector of WeightedPauliOperators representing vector Sigma -- a list of all pauli terms with odd number of Y gates\n",
    "sigmas=get_sigma_pauli_terms(n_qubits)\n",
    "\n",
    "## b=i[H,sigma]\n",
    "b_pauli_terms=b_terms(H_graycode,sigmas)\n",
    "\n",
    "##S_{ij}=2sigma_i.sigma_j\n",
    "S_pauli_terms=S_terms(sigmas)\n",
    "\n",
    "## Set of all pauli terms needed to compute H, b, and S\n",
    "pauli_set=get_intersection_pauli_terms(H_graycode,b_pauli_terms,S_pauli_terms)\n",
    "\n",
    "## Organize pauli set into commuting sets of pauli operators \n",
    "commuting_sets=get_commuting_sets(pauli_set)\n",
    "print(\"key, [paulis in set]\")\n",
    "for p in commuting_sets:\n",
    "    print(p, commuting_sets[p])"
   ]
  },
  {
   "cell_type": "code",
   "execution_count": 4,
   "metadata": {},
   "outputs": [
    {
     "name": "stdout",
     "output_type": "stream",
     "text": [
      "num qubits : 3\n",
      "[-2.215038  2.521599  8.321433 16.327663 26.595576 39.959244 57.747928\n",
      " 83.055014]\n"
     ]
    },
    {
     "name": "stderr",
     "output_type": "stream",
     "text": [
      "100%|██████████| 30/30 [00:22<00:00,  1.34it/s]\n",
      "100%|██████████| 30/30 [00:54<00:00,  1.80s/it]\n"
     ]
    }
   ],
   "source": [
    "#####################################       \n",
    "# Prepare and run the evolution circuit\n",
    "#####################################       \n",
    "num_iterations=30\n",
    "delta_time=0.01\n",
    "\n",
    "Nmax=14\n",
    "H = hamiltonian_matrix(Nmax=14,J=1,interaction=\"toy\")\n",
    "\n",
    "H_graycode=GrayCodeHamiltonian(H)\n",
    "n_qubits=H_graycode.N_qubits\n",
    "\n",
    "print(\"num qubits :\",n_qubits)\n",
    "initialization=\"single_state\"\n",
    "\n",
    "exact_eigenvalue,_=eigh(H)\n",
    "print(exact_eigenvalue)\n",
    "\n",
    "backend = 'statevector_simulator'\n",
    "sv_energies,Ccoefs_sv=run_qite_experiment(H_graycode,num_iterations,delta_time,backend,initialization,A_threshold=1e-10,cstep=None)\n",
    "\n",
    "threshold=1e-2\n",
    "backend = 'qasm_simulator'\n",
    "qasm_energies_gc,_=run_qite_experiment(H_graycode,num_iterations,delta_time,backend,initialization,A_threshold=threshold,cstep=1)\n",
    "\n",
    "\n"
   ]
  },
  {
   "cell_type": "code",
   "execution_count": 5,
   "metadata": {
    "scrolled": false
   },
   "outputs": [
    {
     "data": {
      "text/plain": [
       "<matplotlib.legend.Legend at 0x148c34890>"
      ]
     },
     "execution_count": 5,
     "metadata": {},
     "output_type": "execute_result"
    },
    {
     "data": {
      "image/png": "[encoded data removed]",
      "text/plain": [
       "<Figure size 1152x576 with 1 Axes>"
      ]
     },
     "metadata": {},
     "output_type": "display_data"
    }
   ],
   "source": [
    "time=[delta_time*t for t in range(num_iterations)]\n",
    "plt.plot(time,sv_energies,'r--',label=\"gray code sv\")\n",
    "plt.plot(time,qasm_energies_gc,'g^',label=\"gray code qasm\")\n",
    "plt.hlines(exact_eigenvalue[0], time[0], time[-1], colors='k', linestyles='solid', label='exact',)\n",
    "plt.legend(prop={'size': 20})"
   ]
  },
  {
   "cell_type": "code",
   "execution_count": 6,
   "metadata": {},
   "outputs": [
    {
     "name": "stdout",
     "output_type": "stream",
     "text": [
      "[[-0.436581 -4.286607  0.      ]\n",
      " [-4.286607 12.25     -7.826238]\n",
      " [ 0.       -7.826238 19.25    ]]\n",
      "eigsp  [-2.045671  8.561582 24.547508]\n",
      "{'III': 15.531709445, 'IIZ': 0.21829055499999983, 'IXX': -2.1433035249352805, 'IYY': -2.1433035249352805, 'IZI': -6.125, 'XXI': -3.913118960624632, 'YYI': -3.913118960624632, 'ZII': -9.625}\n",
      "\n",
      "{'ZZZ': ['III', 'IIZ', 'IZI', 'ZII'], 'XXX': ['IXX', 'XXI'], 'YYY': ['IYY', 'YYI']}\n"
     ]
    }
   ],
   "source": [
    "Nmax=4\n",
    "H = hamiltonian_matrix(Nmax=4,J=1,interaction=\"toy\")\n",
    "H_jw=JordanWignerHamiltonian(H)\n",
    "print(H_jw.matrix)\n",
    "\n",
    "eigsp,_= eigh(H_jw.matrix)\n",
    "print(\"eigsp \",eigsp)\n",
    "# print(H_jw.pauli_rep)\n",
    "print(H_jw.pauli_coeffs)\n",
    "\n",
    "print(\"\")\n",
    "print(H_jw.pauli_partitions)\n"
   ]
  },
  {
   "cell_type": "code",
   "execution_count": 7,
   "metadata": {},
   "outputs": [
    {
     "name": "stderr",
     "output_type": "stream",
     "text": [
      "100%|██████████| 30/30 [00:22<00:00,  1.31it/s]"
     ]
    },
    {
     "name": "stdout",
     "output_type": "stream",
     "text": [
      "[ 9.475287  6.397068  4.327324  2.977802  2.078862  1.446574  0.971775\n",
      "  0.593798  0.279756  0.011708 -0.22053  -0.423193 -0.600522 -0.755733\n",
      " -0.891485 -1.010093 -1.113631 -1.203965 -1.282776 -1.351567 -1.411677\n",
      " -1.464286 -1.510427 -1.551002 -1.586793 -1.618474 -1.646625 -1.671743\n",
      " -1.694253 -1.714516]\n"
     ]
    },
    {
     "name": "stderr",
     "output_type": "stream",
     "text": [
      "\n"
     ]
    }
   ],
   "source": [
    "num_iterations=30\n",
    "delta_time=0.01\n",
    "initialization=\"uniform\"\n",
    "backend = 'statevector_simulator'\n",
    "sv_energies_jw,_=run_qite_experiment(H_jw,num_iterations,delta_time,backend,initialization,A_threshold=1e-10,cstep=None)\n",
    "print(sv_energies_jw)"
   ]
  },
  {
   "cell_type": "code",
   "execution_count": 8,
   "metadata": {},
   "outputs": [
    {
     "name": "stdout",
     "output_type": "stream",
     "text": [
      "[-2.045671  8.561582 24.547508]\n"
     ]
    },
    {
     "data": {
      "text/plain": [
       "<matplotlib.legend.Legend at 0x1535346d0>"
      ]
     },
     "execution_count": 8,
     "metadata": {},
     "output_type": "execute_result"
    },
    {
     "data": {
      "image/png": "[encoded data removed]",
      "text/plain": [
       "<Figure size 1152x576 with 1 Axes>"
      ]
     },
     "metadata": {},
     "output_type": "display_data"
    }
   ],
   "source": [
    "exact_eigenvalue,_=eigh(H)\n",
    "print(exact_eigenvalue)\n",
    "\n",
    "time=[delta_time*t for t in range(num_iterations)]\n",
    "plt.plot(time,sv_energies_jw,'r--',label=\"gray code sv\")\n",
    "plt.hlines(exact_eigenvalue[0], time[0], time[-1], colors='k', linestyles='solid', label='exact',)\n",
    "plt.legend(prop={'size': 20})"
   ]
  },
  {
   "cell_type": "code",
   "execution_count": 9,
   "metadata": {},
   "outputs": [
    {
     "name": "stdout",
     "output_type": "stream",
     "text": [
      "key, [paulis in set]\n",
      "XXX ['III', 'IIX', 'IXI', 'IXX', 'XII', 'XIX', 'XXI', 'XXX']\n",
      "XXY ['IIY', 'IXY', 'XIY', 'XXY']\n",
      "XXZ ['IIZ', 'IXZ', 'XIZ', 'XXZ']\n",
      "XYX ['IYI', 'IYX', 'XYI', 'XYX']\n",
      "XYY ['IYY', 'XYY']\n",
      "XYZ ['IYZ', 'XYZ']\n",
      "XZX ['IZI', 'IZX', 'XZI', 'XZX']\n",
      "XZY ['IZY', 'XZY']\n",
      "XZZ ['IZZ', 'XZZ']\n",
      "YXX ['YII', 'YIX', 'YXI', 'YXX']\n",
      "YXY ['YIY', 'YXY']\n",
      "YXZ ['YIZ', 'YXZ']\n",
      "YYX ['YYI', 'YYX']\n",
      "YYY ['YYY']\n",
      "YYZ ['YYZ']\n",
      "YZX ['YZI', 'YZX']\n",
      "YZY ['YZY']\n",
      "YZZ ['YZZ']\n",
      "ZXX ['ZII', 'ZIX', 'ZXI', 'ZXX']\n",
      "ZXY ['ZIY', 'ZXY']\n",
      "ZXZ ['ZIZ', 'ZXZ']\n",
      "ZYX ['ZYI', 'ZYX']\n",
      "ZYY ['ZYY']\n",
      "ZYZ ['ZYZ']\n",
      "ZZX ['ZZI', 'ZZX']\n",
      "ZZY ['ZZY']\n",
      "ZZZ ['ZZZ']\n"
     ]
    }
   ],
   "source": [
    "## vector of WeightedPauliOperators representing vector Sigma -- a list of all pauli terms with odd number of Y gates\n",
    "n_qubits=H_jw.N_qubits\n",
    "sigmas=get_sigma_pauli_terms(n_qubits)\n",
    "\n",
    "## b=i[H,sigma]\n",
    "b_pauli_terms=b_terms(H_jw,sigmas)\n",
    "\n",
    "##S_{ij}=2sigma_i.sigma_j\n",
    "S_pauli_terms=S_terms(sigmas)\n",
    "\n",
    "## Set of all pauli terms needed to compute H, b, and S\n",
    "pauli_set=get_intersection_pauli_terms(H_jw,b_pauli_terms,S_pauli_terms)\n",
    "\n",
    "## Organize pauli set into commuting sets of pauli operators \n",
    "commuting_sets=get_commuting_sets(sorted(pauli_set))\n",
    "print(\"key, [paulis in set]\")\n",
    "for p in commuting_sets:\n",
    "    print(p, commuting_sets[p])"
   ]
  },
  {
   "cell_type": "code",
   "execution_count": null,
   "metadata": {},
   "outputs": [],
   "source": []
  },
  {
   "cell_type": "code",
   "execution_count": 10,
   "metadata": {},
   "outputs": [
    {
     "data": {
      "image/png": "[encoded data removed]",
      "text/plain": [
       "<Figure size 1244.94x204.68 with 1 Axes>"
      ]
     },
     "execution_count": 10,
     "metadata": {},
     "output_type": "execute_result"
    }
   ],
   "source": [
    "## Testing\n",
    "N_states=2\n",
    "encoding=\"JordanWigner\"\n",
    "N_qubits = N_states\n",
    "\n",
    "measurement_idx=\"X\"*N_qubits\n",
    "thetas = np.random.uniform(low=-np.pi/2, high=np.pi/2,size=N_states-1)\n",
    "\n",
    "circuit=variational_circuit(encoding,thetas,measurement_idx,\"qasm_simulator\",num_cnot_pairs=1,num_folding=1)\n",
    "circuit.draw(output=\"mpl\",filename=\"circuit.pdf\")\n"
   ]
  },
  {
   "cell_type": "code",
   "execution_count": 5,
   "metadata": {},
   "outputs": [
    {
     "name": "stdout",
     "output_type": "stream",
     "text": [
      "2\n",
      "5.906709445000001 [] +\n",
      "-2.1433035249352805 [X0 X1] +\n",
      "-2.1433035249352805 [Y0 Y1] +\n",
      "0.21829055499999983 [Z0] +\n",
      "-6.125 [Z1]\n",
      "\n",
      "5.72694850291904\n"
     ]
    }
   ],
   "source": [
    "backend=Aer.get_backend(\"statevector_simulator\")\n",
    "hw=1.0 ## Set internally by toy hamilonian\n",
    "J=1\n",
    "Nmax=2\n",
    "# encoding=\"Graycode\"\n",
    "encoding=\"JordanWigner\"\n",
    "H = hamiltonian_matrix(Nmax=2,J=1,interaction=\"toy\")\n",
    "\n",
    "if encoding==\"Graycode\":\n",
    "    H_qubit=GrayCodeHamiltonian(H)\n",
    "else:\n",
    "    H_qubit=JordanWignerHamiltonian(H)\n",
    "# print(H_graycode.pauli_partitions.keys())\n",
    "N_states = H_qubit.N_states\n",
    "N_qubits = H_qubit.N_qubits \n",
    "\n",
    "# thetas = np.random.uniform(low=-np.pi/2, high=np.pi/2,size=N_states-1)\n",
    "print(N_states)\n",
    "thetas=[1.0]\n",
    "\n",
    "energy=compute_energy(thetas, backend, H_qubit)\n",
    "\n",
    "\n",
    "print(H_qubit.pauli_rep)\n",
    "# print(H_qubit.pauli_partitions)\n",
    "print(\"\")\n",
    "print(energy)"
   ]
  },
  {
   "cell_type": "code",
   "execution_count": 6,
   "metadata": {
    "scrolled": false
   },
   "outputs": [
    {
     "name": "stdout",
     "output_type": "stream",
     "text": [
      "15.531709445 [] +\n",
      "-2.1433035249352805 [X0 X1] +\n",
      "-2.1433035249352805 [Y0 Y1] +\n",
      "0.21829055499999983 [Z0] +\n",
      "-3.913118960624632 [X1 X2] +\n",
      "-3.913118960624632 [Y1 Y2] +\n",
      "-6.125 [Z1] +\n",
      "-9.625 [Z2]\n",
      "3\n",
      "No value for parameter layout provided.\n",
      "Setting layout to default value None.\n",
      "No value for parameter number_circuit_folding provided.\n",
      "Setting number_circuit_folding to default value 0.\n",
      "\n",
      "Experiment parameters\n",
      "{'N_cpus': 1,\n",
      " 'N_iter': 100,\n",
      " 'N_shots': 10000,\n",
      " 'N_states': 3,\n",
      " 'N_trials': 1,\n",
      " 'backend': 'qasm_simulator',\n",
      " 'device_name': None,\n",
      " 'encoding': 'jordan_wigner',\n",
      " 'layout': None,\n",
      " 'mitigate_meas_error': False,\n",
      " 'number_circuit_folding': 0,\n",
      " 'number_cnot_pairs': 4,\n",
      " 'optimizer': 'SPSA',\n",
      " 'output_dir': 'outputs-qiskit-statevector_simulator',\n",
      " 'spsa_a': 0.628,\n",
      " 'spsa_c': 0.1,\n",
      " 'zero_noise_extrapolation': True}\n",
      "\n",
      "[-1.8498541834547504]\n"
     ]
    }
   ],
   "source": [
    "from qiskit_experiment import set_parameters\n",
    "hw=1.0 ## Set internally by toy hamilonian\n",
    "J=1\n",
    "Nmax=4\n",
    "# encoding=\"Graycode\"\n",
    "encoding=\"JordanWigner\"\n",
    "H = hamiltonian_matrix(Nmax=4,J=1,interaction=\"toy\")\n",
    "\n",
    "if encoding==\"Graycode\":\n",
    "    H_qubit=GrayCodeHamiltonian(H)\n",
    "else:\n",
    "    H_qubit=JordanWignerHamiltonian(H)\n",
    "\n",
    "print(H_qubit.pauli_rep)\n",
    "N_states = H_qubit.N_states\n",
    "print(N_states)\n",
    "N_qubits = H_qubit.N_qubits \n",
    "# thetas = np.random.uniform(low=-np.pi/2, high=np.pi/2,size=N_states-1)\n",
    "# thetas=[1.0]\n",
    "N_trials=1\n",
    "thetas=[[1.0]*(N_states-1)]*N_trials\n",
    "\n",
    "parameters = {\n",
    "# \"encoding\": 'gray_code',\n",
    "\"encoding\": 'jordan_wigner', \n",
    "\"N_states\": 3,\n",
    "# \"backend\": 'statevector_simulator',\n",
    "\"backend\": 'qasm_simulator',\n",
    "\"N_shots\": 10000,\n",
    "\"N_cpus\": 1,\n",
    "\"spsa_a\": 0.628,\n",
    "\"spsa_c\": 0.1,\n",
    "\"N_iter\": 100,\n",
    "\"optimizer\": 'SPSA',\n",
    "\"N_trials\": N_trials,\n",
    "\"device_name\": None,\n",
    "\"mitigate_meas_error\": False,\n",
    "\"number_cnot_pairs\": 4,\n",
    "\"zero_noise_extrapolation\":True,\n",
    "\"output_dir\": 'outputs-qiskit-statevector_simulator'\n",
    "}\n",
    "set_parameters(parameters)\n",
    "# print(H_qubit.pauli_partitions)\n",
    "energies=[]\n",
    "for theta in thetas:\n",
    "    res=do_experiment(theta,H_qubit,parameters)\n",
    "    energies.append(res[\"fun\"])\n",
    "print(energies)"
   ]
  }
 ],
 "metadata": {
  "kernelspec": {
   "display_name": "Python 3",
   "language": "python",
   "name": "python3"
  },
  "language_info": {
   "codemirror_mode": {
    "name": "ipython",
    "version": 3
   },
   "file_extension": ".py",
   "mimetype": "text/x-python",
   "name": "python",
   "nbconvert_exporter": "python",
   "pygments_lexer": "ipython3",
   "version": "3.7.5"
  }
 },
 "nbformat": 4,
 "nbformat_minor": 4
}
