{
 "cells": [
  {
   "cell_type": "markdown",
   "metadata": {},
   "source": [
    "# Hamiltonian Time Evolution"
   ]
  },
  {
   "cell_type": "code",
   "execution_count": 1,
   "metadata": {},
   "outputs": [],
   "source": [
    "import numpy as np\n",
    "np.warnings.filterwarnings('ignore')\n",
    "\n",
    "import pickle\n",
    "\n",
    "from scipy.linalg import expm\n",
    "from scipy.linalg import lstsq\n",
    "from scipy.linalg import eigh\n",
    "\n",
    "from pprint import pprint\n",
    "from tqdm import tqdm\n",
    "\n",
    "# Everything we need from Qiskit\n",
    "from qiskit import ClassicalRegister, QuantumRegister, QuantumCircuit\n",
    "from qiskit import execute, Aer\n",
    "from qiskit.quantum_info import Pauli\n",
    "\n",
    "from qiskit.aqua.operators import WeightedPauliOperator\n",
    "from qiskit.aqua.components.initial_states import Custom\n",
    "\n",
    "import qutip as qt\n",
    "\n",
    "import matplotlib.pyplot as plt\n",
    "import seaborn as sns\n",
    "sns.set_style('whitegrid')\n",
    "sns.set(rc={'figure.figsize':(16,8)})\n",
    "sns.set()\n",
    "\n",
    "import itertools\n",
    "\n",
    "import sys\n",
    "sys.path.append(\"../src/\")\n",
    "from hamiltonian import *\n",
    "from utils import *\n",
    "from qiskit_circuits import *\n",
    "from qite import *"
   ]
  },
  {
   "cell_type": "markdown",
   "metadata": {},
   "source": [
    "## Testing operator construction"
   ]
  },
  {
   "cell_type": "code",
   "execution_count": 61,
   "metadata": {},
   "outputs": [],
   "source": [
    "def pauli_operators(n_qubits):\n",
    "    pauli_strings=[\"I\",\"X\",\"Y\",\"Z\"]\n",
    "    pauli_product_strings=list(map(lambda x : \"\".join(x),list(itertools.product(*[pauli_strings for i in range(n_qubits)]))))\n",
    "    return pauli_product_strings\n",
    "    \n",
    "\n",
    "def sigma_real_terms(n_qubits):\n",
    "    \"\"\"\n",
    "    Get all possible pauli operators with an odd number of Y gates for n_qubit qubits \n",
    "    \n",
    "    Input:\n",
    "        n_qubits (int) : number of qubits \n",
    "\n",
    "    Returns:\n",
    "        sigmas (list<WeightedPauliOperator>) : List of pauli operators with an odd number of Y\n",
    "\n",
    "    \"\"\" \n",
    "    pauli_strings=[\"I\",\"X\",\"Y\",\"Z\"]\n",
    "    pauli_product_strings=list(map(lambda x : \"\".join(x),list(itertools.product(*[pauli_strings for i in range(n_qubits)]))))\n",
    "\n",
    "    ## Extract out pauli terms of odd number of Y \n",
    "    paulis=[]\n",
    "    for string in pauli_product_strings:\n",
    "        if string.count(\"Y\")%2==0:\n",
    "            paulis.append(Pauli.from_label(string))\n",
    "\n",
    "    sigmas=[]\n",
    "    for pauli in paulis:\n",
    "        sigma=[(1.0,pauli)]\n",
    "        sigmas.append(WeightedPauliOperator(sigma))\n",
    "\n",
    "    return sigmas\n",
    "\n",
    "H = hamiltonian_matrix(Nmax=4,hw=7.0,J=1,interaction_filename=\"toy_hamiltonian\") \n",
    "H_qubit = GrayCodeHamiltonian(H)\n",
    "\n",
    "## Get list of sigmas (all pauli terms with odd number Y gates)\n",
    "n_qubits=H_qubit.N_qubits\n",
    "## vector of WeightedPauliOperators representing vector Sigma\n",
    "sigmas=sigma_real_terms(n_qubits)\n",
    "\n",
    "## Construct S\n",
    "S_pauli_terms=S_terms(sigmas)\n",
    "\n",
    "# pauli_set=get_intersection_pauli_terms(H_qubit,beta_pauli_terms,S_pauli_terms)\n",
    "\n",
    "# commuting_sets=get_commuting_sets(sorted(pauli_set))\n",
    "# for p in commuting_sets:\n",
    "#     print(p, commuting_sets[p],p[::-1])\n",
    "    \n"
   ]
  },
  {
   "cell_type": "code",
   "execution_count": 62,
   "metadata": {},
   "outputs": [],
   "source": [
    "def weighted_pauli_matrix(W):\n",
    "    pauli_terms=get_pauli_terms(W)\n",
    "    matrix=reduce(lambda x,y: x+y,[pauli_terms[term]*get_pauli_matrix(term) for term in pauli_terms])\n",
    "    return matrix\n",
    "\n",
    "\n",
    "\n",
    "def run_time_evolution_experiment(H,num_iterations,delta_time,backend,initialization,A_threshold=1e-10,cstep=None):\n",
    "    \"\"\"\n",
    "    Run qite evolution to get energies of ground state \n",
    "    \"\"\"\n",
    "\n",
    "    n_qubits=H.N_qubits\n",
    "    n_shots=10000 ## Set to allowed number of shots at IBMQ\n",
    " \n",
    "    ## Get commuting set \n",
    "    commuting_sets=H.pauli_partitions\n",
    "\n",
    "    ## Zero initialize \n",
    "    results_dict={}\n",
    "    A_set=[]\n",
    "    Energies=np.zeros(num_iterations)\n",
    "\n",
    "    ## for each time step, run circuit\n",
    "    for t in tqdm(range(num_iterations)):\n",
    "        expectation_values={}\n",
    "        if backend=='statevector_simulator':\n",
    "            psi,counts=run_circuit_statevector_counts(n_qubits,A_set,delta_time,initialization=\"uniform\")\n",
    "            \n",
    "            if t>0:\n",
    "                for state in counts:\n",
    "                    if t==1:\n",
    "                        results_dict[state[::-1]] = [counts[state]]\n",
    "                    else:\n",
    "                        results_dict[state[::-1]].append(counts[state])\n",
    "                    \n",
    "            ## Compute expectation value for each pauli term \n",
    "            for pauli_id in commuting_sets:        \n",
    "                for pauli in commuting_sets[pauli_id]: \n",
    "                    pauli_mat = get_pauli_matrix(pauli)\n",
    "                    e_value=np.conj(psi).T @ pauli_mat @ psi\n",
    "                    expectation_values[pauli]=e_value\n",
    "                    \n",
    "        ## qasm_simulator\n",
    "        else:\n",
    "            for pauli_id in commuting_sets:   \n",
    "                ## Run circuit to get counts \n",
    "                meas_results=run_circuit_qasm(n_qubits,A_set,pauli_id,n_shots=n_shots,initialization=\"uniform\")\n",
    "\n",
    "                ## Compute expectation value for each pauli term \n",
    "                for pauli in commuting_sets[pauli_id]: \n",
    "                    expectation_values[pauli]=compute_expectation_value(pauli,meas_results)    \n",
    "\n",
    "\n",
    "        ## Compute energy\n",
    "        H_pauli=H.pauli_coeffs\n",
    "        for key in H_pauli:\n",
    "            Energies[t]+=H_pauli[key]*expectation_values[key]\n",
    "\n",
    "        A_set.append(H.weighted_pauli)\n",
    "\n",
    "    return Energies,results_dict"
   ]
  },
  {
   "cell_type": "code",
   "execution_count": 63,
   "metadata": {},
   "outputs": [
    {
     "name": "stderr",
     "output_type": "stream",
     "text": [
      "100%|██████████| 50/50 [00:05<00:00,  8.81it/s]\n"
     ]
    }
   ],
   "source": [
    "#####################################       \n",
    "# Prepare and run the evolution circuit\n",
    "#####################################       \n",
    "\n",
    "# num_iterations=3\n",
    "num_iterations=50\n",
    "delta_time=0.01\n",
    "verbose=False\n",
    "backend = 'statevector_simulator'\n",
    "initialization=\"uniform\"\n",
    "\n",
    "Energy_table=[]\n",
    "H = hamiltonian_matrix(Nmax=4,hw=7.0,J=1,interaction_filename=\"toy_hamiltonian\") \n",
    "H_qubit = GrayCodeHamiltonian(H)\n",
    "\n",
    "backend = 'statevector_simulator'\n",
    "sv_energies,results_dict=run_time_evolution_experiment(H_qubit,num_iterations,delta_time,backend,initialization,A_threshold=1e-10)"
   ]
  },
  {
   "cell_type": "code",
   "execution_count": 64,
   "metadata": {},
   "outputs": [
    {
     "name": "stdout",
     "output_type": "stream",
     "text": [
      "[1.70943224 1.74505745 1.78030497 1.81439723 1.84660073 1.87625517\n",
      " 1.90279849 1.92578624 1.94490433 1.9599745  1.97095228 1.97791799\n",
      " 1.98106132 1.98066089 1.97706015 1.97064146 1.96180003 1.95091955\n",
      " 1.93835117 1.92439694 1.90929903 1.89323493 1.87631899 1.85860973\n",
      " 1.84012234 1.82084497 1.80075761 1.77985177 1.75814939 1.73571938\n",
      " 1.71269032 1.68925831 1.66568903 1.64231394 1.61952051 1.59773718\n",
      " 1.57741394 1.55899994 1.54291957 1.5295487  1.51919293 1.51206915\n",
      " 1.50829202 1.50786633 1.51068576 1.51653841 1.52511874 1.53604513\n",
      " 1.54888205 1.56316535]\n"
     ]
    }
   ],
   "source": [
    "# print(results_dict)\n",
    "print(sv_energies)"
   ]
  },
  {
   "cell_type": "code",
   "execution_count": 65,
   "metadata": {
    "scrolled": false
   },
   "outputs": [
    {
     "data": {
      "text/plain": [
       "<matplotlib.legend.Legend at 0x15c35c450>"
      ]
     },
     "execution_count": 65,
     "metadata": {},
     "output_type": "execute_result"
    },
    {
     "data": {
      "image/png": "[encoded data removed]",
      "text/plain": [
       "<Figure size 1152x576 with 1 Axes>"
      ]
     },
     "metadata": {},
     "output_type": "display_data"
    }
   ],
   "source": [
    "time=[t for t in range(num_iterations)]\n",
    "plt.plot(sv_energies,'k--',label=\"SV\")\n",
    "# plt.plot(time,Energy_table[0],'c^',label=\"qasm 1e-1\")\n",
    "# plt.plot(time,Energy_table[1],'b^',label=\"qasm 1e-2\")\n",
    "# plt.plot(time,Energy_table[2],'g^',label=\"qasm 1e-5\")\n",
    "# plt.plot(time,Energy_table[3],'r^',label=\"qasm 1e-10\")\n",
    "plt.legend(prop={'size': 20})"
   ]
  },
  {
   "cell_type": "code",
   "execution_count": 66,
   "metadata": {},
   "outputs": [
    {
     "name": "stderr",
     "output_type": "stream",
     "text": [
      " 33%|███▎      | 7/21 [00:00<00:00, 61.85it/s]"
     ]
    },
    {
     "name": "stdout",
     "output_type": "stream",
     "text": [
      "II\t(7.7658547225+0j)\n",
      "IZ\t(-7.9841452775+0j)\n",
      "ZI\t(-1.8591452774999997+0j)\n",
      "ZZ\t(1.6408547225000003+0j)\n",
      "IX\t(-2.1433035249352805+0j)\n",
      "ZX\t(-2.1433035249352805+0j)\n",
      "XI\t(-3.913118960624632+0j)\n",
      "XZ\t(3.913118960624632+0j)\n",
      "\n"
     ]
    },
    {
     "name": "stderr",
     "output_type": "stream",
     "text": [
      "100%|██████████| 21/21 [00:00<00:00, 28.57it/s]\n"
     ]
    }
   ],
   "source": [
    "H = hamiltonian_matrix(Nmax=4,hw=7.0,J=1,interaction_filename=\"toy_hamiltonian\")\n",
    "H_qubit = GrayCodeHamiltonian(H)\n",
    "my_pauli = H_qubit.weighted_pauli\n",
    "print(my_pauli.print_details())\n",
    "\n",
    "\n",
    "# Range of Trotter steps to use\n",
    "min_trotter_steps = 1\n",
    "max_trotter_steps = 21\n",
    "# Arbitrary simulation time\n",
    "\n",
    "\n",
    "\n",
    "\n",
    "backend = Aer.get_backend('statevector_simulator')\n",
    "\n",
    "states_gc = ['00', '10', '11', '01']\n",
    "results_dict_gc = {x : np.zeros(max_trotter_steps) for x in states_gc}\n",
    "\n",
    "trace_dists_gc = np.zeros(max_trotter_steps)\n",
    "\n",
    "for n_trotter_steps in tqdm(range(min_trotter_steps, max_trotter_steps + 1)):\n",
    "    # Prepare and run the evolution circuit\n",
    "    q = QuantumRegister(H_qubit.N_qubits)\n",
    "    circuit = QuantumCircuit(q)\n",
    "    \n",
    "    circuit.h(q)\n",
    "    \n",
    "    circuit += my_pauli.evolve(\n",
    "        None, evo_time=delta_time*n_trotter_steps, num_time_slices=n_trotter_steps,\n",
    "        quantum_registers=q,\n",
    "        expansion_mode='trotter'\n",
    "    )\n",
    "    \n",
    "      # Get and process results\n",
    "    job = execute(circuit, backend)\n",
    "    statevector = job.result().get_statevector(circuit)\n",
    "    results = job.result().get_counts(circuit)\n",
    "#     print(results)\n",
    "#     if n_trotter_steps == max_trotter_steps:\n",
    "#     print(\"state vector\")\n",
    "#     print(statevector)\n",
    "        \n",
    "#     trace_dists_gc[n_trotter_steps-1] = qt.tracedist(qt.Qobj(exact_wavefunction_gc), qt.Qobj(statevector))\n",
    "    \n",
    "    for state in results_dict_gc.keys():\n",
    "        # Need to reverse the state we put the counts in because our labels are\n",
    "        # normally ordered, and Qiskit gives them to us backwards\n",
    "        results_dict_gc[state[::-1]][n_trotter_steps-1] = results[state]"
   ]
  },
  {
   "cell_type": "code",
   "execution_count": 67,
   "metadata": {},
   "outputs": [
    {
     "name": "stdout",
     "output_type": "stream",
     "text": [
      "{'00': array([0.24832636, 0.24773716, 0.24835942, 0.25038752, 0.25406663,\n",
      "       0.25967075, 0.26747705, 0.27773833, 0.29065576, 0.30635375,\n",
      "       0.32485906, 0.34608556, 0.3698261 , 0.39575202, 0.42342068,\n",
      "       0.45229059, 0.48174328, 0.51111057, 0.53970554, 0.56685516,\n",
      "       0.59193248]), '10': array([0.25167364, 0.25664588, 0.26460656, 0.27499929, 0.28705772,\n",
      "       0.29985613, 0.31237054, 0.32354657, 0.3323692 , 0.33792988,\n",
      "       0.3394865 , 0.33651211, 0.32872933, 0.31612817, 0.29896623,\n",
      "       0.27775141, 0.25320859, 0.22623264, 0.19783114, 0.16906091,\n",
      "       0.14096284]), '11': array([0.25      , 0.24561696, 0.23703402, 0.2246132 , 0.20887565,\n",
      "       0.19047312, 0.17015241, 0.1487151 , 0.12697504, 0.10571637,\n",
      "       0.08565444, 0.06740233, 0.05144457, 0.03811981, 0.0276131 ,\n",
      "       0.01995801, 0.01504813, 0.01265679, 0.01246332, 0.01408393,\n",
      "       0.01710468]), '01': array([0.25, 0.25, 0.25, 0.25, 0.25, 0.25, 0.25, 0.25, 0.25, 0.25, 0.25,\n",
      "       0.25, 0.25, 0.25, 0.25, 0.25, 0.25, 0.25, 0.25, 0.25, 0.25])}\n"
     ]
    }
   ],
   "source": [
    "print(results_dict_gc)"
   ]
  },
  {
   "cell_type": "code",
   "execution_count": 68,
   "metadata": {},
   "outputs": [
    {
     "name": "stdout",
     "output_type": "stream",
     "text": [
      "{'00': [0.248326363453667, 0.247737164208974, 0.248359416589939, 0.250387515611913, 0.254066627949964, 0.25967075146551, 0.26747704721937, 0.277738330859783, 0.290655759413109, 0.306353754078502, 0.324859059076018, 0.34608556058857, 0.369826097590859, 0.395752015294997, 0.423420675762176, 0.452290586541666, 0.481743275879123, 0.511110569496763, 0.539705542504109, 0.566855157527211, 0.59193247519439, 0.614386344600354, 0.633766647935853, 0.64974347359147, 0.662119004829924, 0.670831407776986, 0.675950548330143, 0.677665924500204, 0.676267729784067, 0.672122427472965, 0.665644582934724, 0.657266945298234, 0.64741087465735, 0.636459168748893, 0.624733157200287, 0.612475615123375, 0.599840623439253, 0.586891000817284, 0.573603386932187, 0.559880507297416, 0.54556963491193, 0.530485819612899, 0.514438113624919, 0.497256805420886, 0.478819598871295, 0.459074746027087, 0.438059354716262, 0.415911431442735, 0.392874661965285], '10': [0.251673636546333, 0.256645877152419, 0.264606563998354, 0.274999285431494, 0.287057722124786, 0.299856129758119, 0.312370544503585, 0.323546573814879, 0.332369197105782, 0.337929878805786, 0.339486497916803, 0.33651210890133, 0.328729332315966, 0.3161281748928, 0.298966227496304, 0.277751405116804, 0.253208590861595, 0.226232642273892, 0.197831137046292, 0.16906091272757, 0.140962844850232, 0.114499383844143, 0.090499129082762, 0.069612176741187, 0.052279176190827, 0.038716025028747, 0.028914997325691, 0.022661914154986, 0.019567814194856, 0.019112546872359, 0.020696864501141, 0.02369899301671, 0.02753135536846, 0.031693128832, 0.035814636703435, 0.039690183130581, 0.043296793802292, 0.04679736397573, 0.050527864833108, 0.054969437453074, 0.060707326644147, 0.06837959420524, 0.078619332016737, 0.091994613382123, 0.108950638379807, 0.129758428976268, 0.154474018013977, 0.182911380660136, 0.214631425325686], '01': [0.25, 0.25, 0.25, 0.25, 0.25, 0.25, 0.25, 0.25, 0.25, 0.25, 0.25, 0.25, 0.25, 0.25, 0.25, 0.25, 0.25, 0.25, 0.25, 0.25, 0.25, 0.25, 0.25, 0.25, 0.25, 0.25, 0.25, 0.25, 0.25, 0.25, 0.25, 0.25, 0.25, 0.25, 0.249999999999999, 0.249999999999999, 0.249999999999999, 0.249999999999999, 0.249999999999999, 0.249999999999999, 0.249999999999999, 0.249999999999999, 0.249999999999999, 0.249999999999999, 0.249999999999999, 0.249999999999999, 0.249999999999999, 0.249999999999999, 0.249999999999999], '11': [0.25, 0.245616958638607, 0.237034019411707, 0.224613198956593, 0.208875649925251, 0.190473118776371, 0.170152408277045, 0.148715095325338, 0.126975043481109, 0.105716367115712, 0.085654443007179, 0.0674023305101, 0.051444570093176, 0.038119809812204, 0.02761309674152, 0.01995800834153, 0.015048133259282, 0.012656788229345, 0.012463320449599, 0.014083929745218, 0.017104679955377, 0.021114271555502, 0.025734222981384, 0.030644349667342, 0.035601818979248, 0.040452567194266, 0.045134454344165, 0.049672161344808, 0.054164456021075, 0.058765025654673, 0.063658552564133, 0.069034061685053, 0.075057769974187, 0.081847702419104, 0.089452206096275, 0.09783420174604, 0.106862582758451, 0.116311635206982, 0.125868748234701, 0.135150055249506, 0.143723038443918, 0.151134586181857, 0.15694255435834, 0.160748581196987, 0.162229762748893, 0.161166824996642, 0.157466627269757, 0.151177187897125, 0.142493912709025]}\n"
     ]
    }
   ],
   "source": [
    "print(results_dict)"
   ]
  },
  {
   "cell_type": "code",
   "execution_count": 69,
   "metadata": {},
   "outputs": [
    {
     "ename": "IndexError",
     "evalue": "index 21 is out of bounds for axis 0 with size 21",
     "output_type": "error",
     "traceback": [
      "\u001b[0;31m---------------------------------------------------------------------------\u001b[0m",
      "\u001b[0;31mIndexError\u001b[0m                                Traceback (most recent call last)",
      "\u001b[0;32m<ipython-input-69-d3391e86f12a>\u001b[0m in \u001b[0;36m<module>\u001b[0;34m\u001b[0m\n\u001b[1;32m      1\u001b[0m \u001b[0;32mfor\u001b[0m \u001b[0mstate\u001b[0m \u001b[0;32min\u001b[0m \u001b[0mresults_dict\u001b[0m\u001b[0;34m:\u001b[0m\u001b[0;34m\u001b[0m\u001b[0;34m\u001b[0m\u001b[0m\n\u001b[1;32m      2\u001b[0m     \u001b[0;32mfor\u001b[0m \u001b[0mi\u001b[0m \u001b[0;32min\u001b[0m \u001b[0mrange\u001b[0m\u001b[0;34m(\u001b[0m\u001b[0mlen\u001b[0m\u001b[0;34m(\u001b[0m\u001b[0mresults_dict\u001b[0m\u001b[0;34m[\u001b[0m\u001b[0mstate\u001b[0m\u001b[0;34m]\u001b[0m\u001b[0;34m)\u001b[0m\u001b[0;34m)\u001b[0m\u001b[0;34m:\u001b[0m\u001b[0;34m\u001b[0m\u001b[0;34m\u001b[0m\u001b[0m\n\u001b[0;32m----> 3\u001b[0;31m         \u001b[0;32mif\u001b[0m\u001b[0;34m(\u001b[0m\u001b[0mabs\u001b[0m\u001b[0;34m(\u001b[0m\u001b[0mresults_dict\u001b[0m\u001b[0;34m[\u001b[0m\u001b[0mstate\u001b[0m\u001b[0;34m]\u001b[0m\u001b[0;34m[\u001b[0m\u001b[0mi\u001b[0m\u001b[0;34m]\u001b[0m\u001b[0;34m-\u001b[0m\u001b[0mresults_dict_gc\u001b[0m\u001b[0;34m[\u001b[0m\u001b[0mstate\u001b[0m\u001b[0;34m]\u001b[0m\u001b[0;34m[\u001b[0m\u001b[0mi\u001b[0m\u001b[0;34m]\u001b[0m\u001b[0;34m)\u001b[0m\u001b[0;34m>\u001b[0m\u001b[0;36m1e-8\u001b[0m\u001b[0;34m)\u001b[0m\u001b[0;34m:\u001b[0m\u001b[0;34m\u001b[0m\u001b[0;34m\u001b[0m\u001b[0m\n\u001b[0m\u001b[1;32m      4\u001b[0m \u001b[0;31m#         if True:\u001b[0m\u001b[0;34m\u001b[0m\u001b[0;34m\u001b[0m\u001b[0;34m\u001b[0m\u001b[0m\n\u001b[1;32m      5\u001b[0m             \u001b[0mprint\u001b[0m\u001b[0;34m(\u001b[0m\u001b[0mstate\u001b[0m\u001b[0;34m,\u001b[0m\u001b[0mi\u001b[0m\u001b[0;34m,\u001b[0m\u001b[0mresults_dict\u001b[0m\u001b[0;34m[\u001b[0m\u001b[0mstate\u001b[0m\u001b[0;34m]\u001b[0m\u001b[0;34m[\u001b[0m\u001b[0mi\u001b[0m\u001b[0;34m]\u001b[0m\u001b[0;34m,\u001b[0m\u001b[0mresults_dict_gc\u001b[0m\u001b[0;34m[\u001b[0m\u001b[0mstate\u001b[0m\u001b[0;34m]\u001b[0m\u001b[0;34m[\u001b[0m\u001b[0mi\u001b[0m\u001b[0;34m]\u001b[0m\u001b[0;34m)\u001b[0m\u001b[0;34m\u001b[0m\u001b[0;34m\u001b[0m\u001b[0m\n",
      "\u001b[0;31mIndexError\u001b[0m: index 21 is out of bounds for axis 0 with size 21"
     ]
    }
   ],
   "source": [
    "for state in results_dict:\n",
    "    for i in range(len(results_dict[state])):\n",
    "        if(abs(results_dict[state][i]-results_dict_gc[state][i])>1e-8):\n",
    "#         if True:\n",
    "            print(state,i,results_dict[state][i],results_dict_gc[state][i])"
   ]
  },
  {
   "cell_type": "code",
   "execution_count": 78,
   "metadata": {},
   "outputs": [],
   "source": [
    "def beta_terms(evolution_op,sigmas):\n",
    "    \"\"\"\n",
    "    Compute beta={H,sigma}\n",
    "\n",
    "    Input:\n",
    "        H (hamiltonian.EncodingHamiltonian) : Qubit Hamiltonian\n",
    "        sigmas (list<WeightedPauliOperator>) : List of pauli operators with an odd number of Y\n",
    "            \n",
    "    Returns:\n",
    "\n",
    "        b (dictionary) : b operator expressed as dictionary of {label:coef}, each label is a pauli string.\n",
    "    \"\"\"\n",
    "\n",
    "    beta_pauli_terms=[]\n",
    "    \n",
    "    for sigma in sigmas:\n",
    "        product=(evolution_op.__mul__(sigma)+sigma.__mul__(evolution_op))\n",
    "        product.chop(1e-5)\n",
    "        terms=get_pauli_terms(product)\n",
    "        beta_pauli_terms.append(terms)\n",
    "    return beta_pauli_terms\n",
    "\n",
    "\n",
    "\n",
    "def update_evolution_operators(evolution_operators,delta_time,sigmas,S_pauli_terms,expectation_values,threshold=1e-10,verbose=False):\n",
    "    \"\"\"\n",
    "    Solve 2Sa=b for a\n",
    "    \"\"\"   \n",
    "    \n",
    "    n_qubits=sigmas[0].num_qubits\n",
    "    \n",
    "    # zero init evolution operator\n",
    "    evolution_op = WeightedPauliOperator([(0.0,Pauli.from_label(\"I\"*n_qubits))])\n",
    "   \n",
    "    ## Merge all operators into single term \n",
    "    for op in evolution_operators:\n",
    "        evolution_op+=op\n",
    "\n",
    "    ## compute b\n",
    "    num_sigmas=len(sigmas)\n",
    "    b_pauli_terms=beta_terms(evolution_op,sigmas)\n",
    "    \n",
    "    b=np.zeros(num_sigmas)\n",
    "    for sigma_idx in range(num_sigmas):\n",
    "        bI=b_pauli_terms[sigma_idx]\n",
    "#         print(bI)\n",
    "        for term in bI:\n",
    "            b[sigma_idx]+=bI[term]*expectation_values[term]\n",
    "\n",
    "    \n",
    "    ## Comput S\n",
    "    Smatrix=np.asmatrix(np.zeros((num_sigmas,num_sigmas)))\n",
    "    for i in range(num_sigmas):\n",
    "        for j in range(num_sigmas):\n",
    "            Sij=S_pauli_terms[(i,j)]\n",
    "            for term in Sij:\n",
    "                #(S+S^T) gives rise to factor of 2\n",
    "                Smatrix[i,j]+=2*Sij[term]*expectation_values[term] \n",
    "\n",
    "    ## Solve for a in (S+S^T)a=b\n",
    "    a,_,_,_=lstsq(Smatrix,b,cond=threshold)\n",
    "    if verbose==True:\n",
    "        print(\"Smatrix\")\n",
    "        print(Smatrix)\n",
    "        print(\"b\\n\",b)\n",
    "        print(\"a\\n\",a)\n",
    "    \n",
    "    ## Construct A from a\n",
    "    identity_string=\"I\"*n_qubits\n",
    "\n",
    "    ##Null initialize A with 0.0*Identity. \n",
    "    B=WeightedPauliOperator([(0.0,Pauli.from_label(identity_string))])\n",
    "    for i in range((len(sigmas))):\n",
    "        B+=a[i]*sigmas[i]\n",
    "\n",
    "    ## Add new B to evolution operator\n",
    "    evolution_op+=B\n",
    "    evolution_operators=[evolution_op]\n",
    "    \n",
    "    ################################################################################\n",
    "    if verbose==True:       \n",
    "        print(\"t=\",t)\n",
    "        print(\"-----------------------------------------\")\n",
    "\n",
    "        print(\"wavefunction\\n\",wavefunction)        \n",
    "        print(\"\\nB operator\")\n",
    "        print(B.print_details())\n",
    "        \n",
    "        B_pauli_terms=get_pauli_terms(B)\n",
    "        Bmatrix=reduce(lambda x,y: x+y,[B_pauli_terms[term]*get_pauli_matrix(term) for term in B_pauli_terms])\n",
    "        print(Bmatrix)\n",
    "        print(\"-----------------------------------------\")\n",
    "    \n",
    "    return evolution_operators\n",
    "\n",
    "def initialize_circuit(q,c,initial_state=\"zeros\",no_classical=False):\n",
    "    \"\"\"\n",
    "    Initialize circuit.  \n",
    "    \n",
    "    input:\n",
    "        q (qiskit.circuit.quantumregister.QuantumRegister) : qubits\n",
    "        initial_state(str or np.array) : initial state of circuit\n",
    "            \"zeros\" (str,default) : starting state is qubit state with all qubits in zero state\n",
    "            \"uniform\" (str) : Uniform superposition of all qubit states \n",
    "             array(np.array) : normalized array of len(2**n_qubits)\n",
    "    returns\n",
    "        circuit (qiskit.circuit.quantumcircuit.QuantumCircuit) : initialized quantum circuit\n",
    "    \"\"\"    \n",
    "    if initial_state is None:\n",
    "        initial_state=\"zeros\"\n",
    "        \n",
    "    if isinstance(initial_state, str):\n",
    "        if not (initial_state==\"zeros\" or initial_state==\"uniform\"):\n",
    "            sys.exit(f\"{initial_state} not currently valid option\")\n",
    "        if no_classical:\n",
    "            circuit = QuantumCircuit(q)\n",
    "        else:\n",
    "            circuit = QuantumCircuit(q,c)\n",
    "\n",
    "        if initial_state==\"uniform\":\n",
    "            circuit.h(q)\n",
    "    else:\n",
    "        circuit = QuantumCircuit(q,c)\n",
    "        circuit.initialize(initial_state,q)\n",
    "    return circuit\n",
    "\n",
    "def run_circuit_statevector_counts(n_qubits,A_set,time,initialization=None):\n",
    "        ## Initalize circuit\n",
    "#         print(\"qubits \", n_qubits)\n",
    "        q = QuantumRegister(n_qubits)\n",
    "        c = ClassicalRegister(n_qubits)\n",
    "        \n",
    "        circuit=initialize_circuit(q,c,initial_state=initialization,no_classical=True)\n",
    "        \n",
    "        ## If A_set not t, then evolve cirucit using previously computed A matrices stored in A_set\n",
    "        if len(A_set)>0:\n",
    "            circuit=append_evolution_circuit(q,A_set,time,circuit)\n",
    "\n",
    "        ## Execute circuit\n",
    "        backend=Aer.get_backend(\"statevector_simulator\")\n",
    "        job = execute(circuit,backend)\n",
    "  \n",
    "        return job.result().get_statevector(circuit),job.result().get_counts(circuit)        \n",
    "\n",
    "    \n",
    "\n",
    "    \n",
    "def run_time_evolution_merged_statevector(H,num_iterations,delta_time,backend,initialization,A_threshold=1e-10,cstep=None):\n",
    "    \"\"\"\n",
    "    Run qite evolution to get energies of ground state \n",
    "    \"\"\"\n",
    "\n",
    "    n_qubits=H.N_qubits\n",
    "    n_shots=10000 ## Set to allowed number of shots at IBMQ\n",
    " \n",
    "    ## Get list of sigmas (all pauli terms with odd number Y gates)\n",
    "    sigmas=sigma_real_terms(n_qubits)\n",
    "\n",
    "   \n",
    "    ## Construct S in terms of paulis\n",
    "    S_pauli_terms=S_terms(sigmas)\n",
    "\n",
    "    ## Get all pauli terms\n",
    "    pauli_set=pauli_operators(n_qubits)\n",
    "\n",
    "    ## Get commuting sets\n",
    "    commuting_sets=get_commuting_sets(sorted(pauli_set))\n",
    "\n",
    "    ## Zero initialize \n",
    "    results_dict={}\n",
    "    evolution_operators=[]\n",
    "    Energies=np.zeros(num_iterations)\n",
    "\n",
    "    ## for each time step, run circuit\n",
    "    for t in tqdm(range(num_iterations)):\n",
    "        ## Construct b in terms of paulis \n",
    "        evolution_operators.append(H.weighted_pauli)\n",
    "        expectation_values={}\n",
    "        \n",
    "        psi,counts=run_circuit_statevector_counts(n_qubits,evolution_operators,delta_time,initialization=\"uniform\")\n",
    "\n",
    "        ##Store counts \n",
    "        for state in counts:\n",
    "            if t==0:\n",
    "                results_dict[state[::-1]] = [counts[state]]\n",
    "            else:\n",
    "                results_dict[state[::-1]].append(counts[state])\n",
    "\n",
    "        ## Compute expectation value for each pauli term \n",
    "        for pauli_id in commuting_sets:        \n",
    "            for pauli in commuting_sets[pauli_id]: \n",
    "                pauli_mat = get_pauli_matrix(pauli)\n",
    "                e_value=np.conj(psi).T @ pauli_mat @ psi\n",
    "                expectation_values[pauli]=e_value\n",
    "\n",
    "        ## Compute energy\n",
    "        H_pauli=H.pauli_coeffs\n",
    "        for key in H_pauli:\n",
    "            Energies[t]+=H_pauli[key]*expectation_values[key]\n",
    "\n",
    "        if t>0:\n",
    "            evolution_operators=update_evolution_operators(evolution_operators,delta_time,sigmas,S_pauli_terms,expectation_values,threshold=1e-10,verbose=False)\n",
    "\n",
    "    return Energies,results_dict"
   ]
  },
  {
   "cell_type": "code",
   "execution_count": 79,
   "metadata": {},
   "outputs": [
    {
     "name": "stderr",
     "output_type": "stream",
     "text": [
      "100%|██████████| 50/50 [00:01<00:00, 27.92it/s]\n"
     ]
    }
   ],
   "source": [
    "#####################################       \n",
    "# Prepare and run the evolution circuit\n",
    "#####################################       \n",
    "\n",
    "# num_iterations=3\n",
    "num_iterations=50\n",
    "delta_time=0.01\n",
    "verbose=False\n",
    "backend = 'statevector_simulator'\n",
    "initialization=\"uniform\"\n",
    "\n",
    "Energy_table=[]\n",
    "H = hamiltonian_matrix(Nmax=4,hw=7.0,J=1,interaction_filename=\"toy_hamiltonian\") \n",
    "H_qubit = GrayCodeHamiltonian(H)\n",
    "\n",
    "backend = 'statevector_simulator'\n",
    "sv_energies2,results_dict2=run_time_evolution_merged_statevector(H_qubit,num_iterations,delta_time,backend,initialization,A_threshold=1e-10)"
   ]
  },
  {
   "cell_type": "code",
   "execution_count": 80,
   "metadata": {},
   "outputs": [
    {
     "name": "stdout",
     "output_type": "stream",
     "text": [
      "[ 1.74505745  1.78030497  2.28504397  5.11976526 10.37039566  0.89717999\n",
      "  1.97617184  2.91358929 20.04791442  1.5335445   3.26224341  4.11479441\n",
      " 14.3304807   3.31315919  8.22602748  3.80351876  3.8541644  14.43866157\n",
      "  2.77106413 14.29998248  1.31462328  4.58779132  7.26086019  8.53824831\n",
      " 15.41814934 13.04039297  9.00414109 11.55819514 19.01590726  9.5076884\n",
      " 13.06866124 14.05395686 15.70073312  8.00066746  2.67466277  7.94023887\n",
      "  7.68715262 10.83446162 13.36092573 12.91625877 12.30306248 10.42530773\n",
      "  3.66590932  8.64085635 18.2998145  11.25428753  6.07117334 13.26777083\n",
      "  4.5042411   5.99016398]\n"
     ]
    }
   ],
   "source": [
    "print(sv_energies2)"
   ]
  },
  {
   "cell_type": "code",
   "execution_count": 81,
   "metadata": {},
   "outputs": [
    {
     "data": {
      "text/plain": [
       "<matplotlib.legend.Legend at 0x15dac6e10>"
      ]
     },
     "execution_count": 81,
     "metadata": {},
     "output_type": "execute_result"
    },
    {
     "data": {
      "image/png": "[encoded data removed]",
      "text/plain": [
       "<Figure size 1152x576 with 1 Axes>"
      ]
     },
     "metadata": {},
     "output_type": "display_data"
    }
   ],
   "source": [
    "time=[t for t in range(num_iterations)]\n",
    "plt.plot(sv_energies,'k--',label=\"SV\")\n",
    "plt.plot(sv_energies2,'b--',label=\"SV\")\n",
    "plt.legend(prop={'size': 20})"
   ]
  },
  {
   "cell_type": "code",
   "execution_count": null,
   "metadata": {},
   "outputs": [],
   "source": []
  }
 ],
 "metadata": {
  "kernelspec": {
   "display_name": "Python 3",
   "language": "python",
   "name": "python3"
  },
  "language_info": {
   "codemirror_mode": {
    "name": "ipython",
    "version": 3
   },
   "file_extension": ".py",
   "mimetype": "text/x-python",
   "name": "python",
   "nbconvert_exporter": "python",
   "pygments_lexer": "ipython3",
   "version": "3.7.5"
  }
 },
 "nbformat": 4,
 "nbformat_minor": 4
}
