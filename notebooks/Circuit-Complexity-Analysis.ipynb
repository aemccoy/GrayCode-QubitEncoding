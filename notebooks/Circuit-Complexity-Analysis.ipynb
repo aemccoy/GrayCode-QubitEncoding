{
 "cells": [
  {
   "cell_type": "markdown",
   "metadata": {},
   "source": [
    "# Circuit resource analysis for Gray code encoding"
   ]
  },
  {
   "cell_type": "code",
   "execution_count": 1,
   "metadata": {},
   "outputs": [],
   "source": [
    "import numpy as np\n",
    "np.warnings.filterwarnings('ignore')\n",
    "\n",
    "import matplotlib.pyplot as plt\n",
    "\n",
    "import sys\n",
    "sys.path.append(\"../src/\")\n",
    "from qiskit_circuits import *\n",
    "\n",
    "np.set_printoptions(precision=6, suppress=True)"
   ]
  },
  {
   "cell_type": "markdown",
   "metadata": {},
   "source": [
    "Actually generate the ansatz circuits, and use Qiskit to collect the depth, and gate counts. Make sure that they match up with the formulas that we wrote down in the paper."
   ]
  },
  {
   "cell_type": "code",
   "execution_count": 2,
   "metadata": {},
   "outputs": [
    {
     "name": "stdout",
     "output_type": "stream",
     "text": [
      "Jordan-Wigner ansatz resource counts (single circuit, computational basis measurement.)\n",
      "\n",
      "N = 2\n",
      "Depth = \t2, \t4N - 6 = \t2\n",
      "CNOTs = \t1, \t3N - 5 = \t1\n",
      "SQ    = \t2, \t2N - 2 = \t2\n",
      "\n",
      "N = 3\n",
      "Depth = \t6, \t4N - 6 = \t6\n",
      "CNOTs = \t4, \t3N - 5 = \t4\n",
      "SQ    = \t4, \t2N - 2 = \t4\n",
      "\n",
      "N = 4\n",
      "Depth = \t10, \t4N - 6 = \t10\n",
      "CNOTs = \t7, \t3N - 5 = \t7\n",
      "SQ    = \t6, \t2N - 2 = \t6\n",
      "\n",
      "N = 5\n",
      "Depth = \t14, \t4N - 6 = \t14\n",
      "CNOTs = \t10, \t3N - 5 = \t10\n",
      "SQ    = \t8, \t2N - 2 = \t8\n",
      "\n",
      "N = 6\n",
      "Depth = \t18, \t4N - 6 = \t18\n",
      "CNOTs = \t13, \t3N - 5 = \t13\n",
      "SQ    = \t10, \t2N - 2 = \t10\n",
      "\n",
      "N = 7\n",
      "Depth = \t22, \t4N - 6 = \t22\n",
      "CNOTs = \t16, \t3N - 5 = \t16\n",
      "SQ    = \t12, \t2N - 2 = \t12\n",
      "\n"
     ]
    }
   ],
   "source": [
    "print(\"Jordan-Wigner ansatz resource counts (single circuit, computational basis measurement.)\\n\")\n",
    "for N in range(2, 8):\n",
    "    t = np.random.randn(N-1)\n",
    "    c = sparse_variational_circuit(t,  0, 'statevector_simulator')\n",
    "    resources = c.decompose().count_ops()\n",
    "    print(f\"N = {N}\")\n",
    "    print(f\"Depth = \\t{c.depth()}, \\t4N - 6 = \\t{4*N - 6}\")\n",
    "    print(f\"CNOTs = \\t{resources['cx']}, \\t3N - 5 = \\t{3*N - 5}\")\n",
    "    print(f\"SQ    = \\t{resources['u3'] + resources['r']}, \\t2N - 2 = \\t{2*N-2}\")\n",
    "    print()"
   ]
  },
  {
   "cell_type": "code",
   "execution_count": 3,
   "metadata": {},
   "outputs": [
    {
     "name": "stdout",
     "output_type": "stream",
     "text": [
      "Gray-code ansatz resource counts (single circuit, computational basis measurement.)\n",
      "\n",
      "N = 2\n",
      "Depth = \t1, \t expr = \t0\n",
      "SQ    = \t1, \t 2^η-1 = \t1\n",
      "\n",
      "N = 3\n",
      "Depth = \t3, \t expr = \t3\n",
      "CNOTs = \t1, \t 2^η-η-1 = \t1\n",
      "SQ    = \t3, \t 2^η-1 = \t3\n",
      "\n",
      "N = 4\n",
      "Depth = \t3, \t expr = \t3\n",
      "CNOTs = \t1, \t 2^η-η-1 = \t1\n",
      "SQ    = \t3, \t 2^η-1 = \t3\n",
      "\n",
      "N = 5\n",
      "Depth = \t7, \t expr = \t7\n",
      "CNOTs = \t4, \t 2^η-η-1 = \t4\n",
      "SQ    = \t7, \t 2^η-1 = \t7\n",
      "\n",
      "N = 6\n",
      "Depth = \t7, \t expr = \t7\n",
      "CNOTs = \t4, \t 2^η-η-1 = \t4\n",
      "SQ    = \t7, \t 2^η-1 = \t7\n",
      "\n",
      "N = 7\n",
      "Depth = \t7, \t expr = \t7\n",
      "CNOTs = \t4, \t 2^η-η-1 = \t4\n",
      "SQ    = \t7, \t 2^η-1 = \t7\n",
      "\n",
      "N = 8\n",
      "Depth = \t7, \t expr = \t7\n",
      "CNOTs = \t4, \t 2^η-η-1 = \t4\n",
      "SQ    = \t7, \t 2^η-1 = \t7\n",
      "\n",
      "N = 9\n",
      "Depth = \t15, \t expr = \t15\n",
      "CNOTs = \t11, \t 2^η-η-1 = \t11\n",
      "SQ    = \t15, \t 2^η-1 = \t15\n",
      "\n",
      "N = 10\n",
      "Depth = \t15, \t expr = \t15\n",
      "CNOTs = \t11, \t 2^η-η-1 = \t11\n",
      "SQ    = \t15, \t 2^η-1 = \t15\n",
      "\n",
      "N = 11\n",
      "Depth = \t15, \t expr = \t15\n",
      "CNOTs = \t11, \t 2^η-η-1 = \t11\n",
      "SQ    = \t15, \t 2^η-1 = \t15\n",
      "\n",
      "N = 12\n",
      "Depth = \t15, \t expr = \t15\n",
      "CNOTs = \t11, \t 2^η-η-1 = \t11\n",
      "SQ    = \t15, \t 2^η-1 = \t15\n",
      "\n",
      "N = 13\n",
      "Depth = \t15, \t expr = \t15\n",
      "CNOTs = \t11, \t 2^η-η-1 = \t11\n",
      "SQ    = \t15, \t 2^η-1 = \t15\n",
      "\n",
      "N = 14\n",
      "Depth = \t15, \t expr = \t15\n",
      "CNOTs = \t11, \t 2^η-η-1 = \t11\n",
      "SQ    = \t15, \t 2^η-1 = \t15\n",
      "\n",
      "N = 15\n",
      "Depth = \t15, \t expr = \t15\n",
      "CNOTs = \t11, \t 2^η-η-1 = \t11\n",
      "SQ    = \t15, \t 2^η-1 = \t15\n",
      "\n",
      "N = 16\n",
      "Depth = \t15, \t expr = \t15\n",
      "CNOTs = \t11, \t 2^η-η-1 = \t11\n",
      "SQ    = \t15, \t 2^η-1 = \t15\n",
      "\n",
      "N = 17\n",
      "Depth = \t33, \t expr = \t33\n",
      "CNOTs = \t26, \t 2^η-η-1 = \t26\n",
      "SQ    = \t31, \t 2^η-1 = \t31\n",
      "\n",
      "N = 18\n",
      "Depth = \t33, \t expr = \t33\n",
      "CNOTs = \t26, \t 2^η-η-1 = \t26\n",
      "SQ    = \t31, \t 2^η-1 = \t31\n",
      "\n",
      "N = 19\n",
      "Depth = \t33, \t expr = \t33\n",
      "CNOTs = \t26, \t 2^η-η-1 = \t26\n",
      "SQ    = \t31, \t 2^η-1 = \t31\n",
      "\n",
      "N = 20\n",
      "Depth = \t33, \t expr = \t33\n",
      "CNOTs = \t26, \t 2^η-η-1 = \t26\n",
      "SQ    = \t31, \t 2^η-1 = \t31\n",
      "\n",
      "N = 21\n",
      "Depth = \t33, \t expr = \t33\n",
      "CNOTs = \t26, \t 2^η-η-1 = \t26\n",
      "SQ    = \t31, \t 2^η-1 = \t31\n",
      "\n",
      "N = 22\n",
      "Depth = \t33, \t expr = \t33\n",
      "CNOTs = \t26, \t 2^η-η-1 = \t26\n",
      "SQ    = \t31, \t 2^η-1 = \t31\n",
      "\n",
      "N = 23\n",
      "Depth = \t33, \t expr = \t33\n",
      "CNOTs = \t26, \t 2^η-η-1 = \t26\n",
      "SQ    = \t31, \t 2^η-1 = \t31\n",
      "\n",
      "N = 24\n",
      "Depth = \t33, \t expr = \t33\n",
      "CNOTs = \t26, \t 2^η-η-1 = \t26\n",
      "SQ    = \t31, \t 2^η-1 = \t31\n",
      "\n",
      "N = 25\n",
      "Depth = \t33, \t expr = \t33\n",
      "CNOTs = \t26, \t 2^η-η-1 = \t26\n",
      "SQ    = \t31, \t 2^η-1 = \t31\n",
      "\n",
      "N = 26\n",
      "Depth = \t33, \t expr = \t33\n",
      "CNOTs = \t26, \t 2^η-η-1 = \t26\n",
      "SQ    = \t31, \t 2^η-1 = \t31\n",
      "\n",
      "N = 27\n",
      "Depth = \t33, \t expr = \t33\n",
      "CNOTs = \t26, \t 2^η-η-1 = \t26\n",
      "SQ    = \t31, \t 2^η-1 = \t31\n",
      "\n",
      "N = 28\n",
      "Depth = \t33, \t expr = \t33\n",
      "CNOTs = \t26, \t 2^η-η-1 = \t26\n",
      "SQ    = \t31, \t 2^η-1 = \t31\n",
      "\n",
      "N = 29\n",
      "Depth = \t33, \t expr = \t33\n",
      "CNOTs = \t26, \t 2^η-η-1 = \t26\n",
      "SQ    = \t31, \t 2^η-1 = \t31\n",
      "\n",
      "N = 30\n",
      "Depth = \t33, \t expr = \t33\n",
      "CNOTs = \t26, \t 2^η-η-1 = \t26\n",
      "SQ    = \t31, \t 2^η-1 = \t31\n",
      "\n",
      "N = 31\n",
      "Depth = \t33, \t expr = \t33\n",
      "CNOTs = \t26, \t 2^η-η-1 = \t26\n",
      "SQ    = \t31, \t 2^η-1 = \t31\n",
      "\n"
     ]
    }
   ],
   "source": [
    "print(\"Gray-code ansatz resource counts (single circuit, computational basis measurement.)\\n\")\n",
    "for N in range(2, 32):\n",
    "    η = int(np.ceil(np.log2(N)))\n",
    "    t = np.random.randn(2**η - 1)\n",
    "    c = dense_variational_circuit(t,  0, 'statevector_simulator')\n",
    "    #print(c.draw())\n",
    "    resources = c.decompose().count_ops()\n",
    "    \n",
    "    depth =  int(np.ceil((2**η - 1)/η))*(η+1) - 2*η + (2**η-1)%η\n",
    "    \n",
    "    print(f\"N = {N}\")\n",
    "    print(f\"Depth = \\t{c.depth()}, \\t expr = \\t{depth}\")\n",
    "    \n",
    "    if 'cx' in resources:\n",
    "        print(f\"CNOTs = \\t{resources['cx']}, \\t 2^η-η-1 = \\t{2**η-η-1}\")\n",
    "        \n",
    "    print(f\"SQ    = \\t{resources['r']}, \\t 2^η-1 = \\t{(2**η-1)}\")\n",
    "    print()"
   ]
  },
  {
   "cell_type": "code",
   "execution_count": 4,
   "metadata": {},
   "outputs": [
    {
     "name": "stdout",
     "output_type": "stream",
     "text": [
      "Gray-code ansatz resource counts (single circuit, computational basis measurement.)\n",
      "\n",
      "η = 2\n",
      "Depth = \t3, \t expr = \t3\n",
      "CNOTs = \t1, \t 2^η-η-1 = \t1\n",
      "SQ    = \t3, \t 2^η-1 = \t3\n",
      "\n",
      "η = 3\n",
      "Depth = \t7, \t expr = \t7\n",
      "CNOTs = \t4, \t 2^η-η-1 = \t4\n",
      "SQ    = \t7, \t 2^η-1 = \t7\n",
      "\n",
      "η = 4\n",
      "Depth = \t15, \t expr = \t15\n",
      "CNOTs = \t11, \t 2^η-η-1 = \t11\n",
      "SQ    = \t15, \t 2^η-1 = \t15\n",
      "\n",
      "η = 5\n",
      "Depth = \t33, \t expr = \t33\n",
      "CNOTs = \t26, \t 2^η-η-1 = \t26\n",
      "SQ    = \t31, \t 2^η-1 = \t31\n",
      "\n",
      "η = 6\n",
      "Depth = \t68, \t expr = \t68\n",
      "CNOTs = \t57, \t 2^η-η-1 = \t57\n",
      "SQ    = \t63, \t 2^η-1 = \t63\n",
      "\n",
      "η = 7\n",
      "Depth = \t139, \t expr = \t139\n",
      "CNOTs = \t120, \t 2^η-η-1 = \t120\n",
      "SQ    = \t127, \t 2^η-1 = \t127\n",
      "\n",
      "η = 8\n",
      "Depth = \t279, \t expr = \t279\n",
      "CNOTs = \t247, \t 2^η-η-1 = \t247\n",
      "SQ    = \t255, \t 2^η-1 = \t255\n",
      "\n",
      "η = 9\n",
      "Depth = \t559, \t expr = \t559\n",
      "CNOTs = \t502, \t 2^η-η-1 = \t502\n",
      "SQ    = \t511, \t 2^η-1 = \t511\n",
      "\n"
     ]
    }
   ],
   "source": [
    "# Let's check in terms of η\n",
    "print(\"Gray-code ansatz resource counts (single circuit, computational basis measurement.)\\n\")\n",
    "for η in range(2, 10):\n",
    "    t = np.random.randn(2**η - 1)\n",
    "    c = dense_variational_circuit(t,  0, 'statevector_simulator')\n",
    "    #print(c.draw())\n",
    "    resources = c.decompose().count_ops()\n",
    "    \n",
    "    depth =  int(np.ceil((2**η - 1)/η))*(η+1) - 2*η + (2**η-1)%η\n",
    "    \n",
    "    print(f\"η = {η}\")\n",
    "    print(f\"Depth = \\t{c.depth()}, \\t expr = \\t{depth}\")\n",
    "    \n",
    "    if 'cx' in resources:\n",
    "        print(f\"CNOTs = \\t{resources['cx']}, \\t 2^η-η-1 = \\t{2**η-η-1}\")\n",
    "        \n",
    "    print(f\"SQ    = \\t{resources['r']}, \\t 2^η-1 = \\t{(2**η-1)}\")\n",
    "    print()"
   ]
  },
  {
   "cell_type": "markdown",
   "metadata": {},
   "source": [
    "## Plots"
   ]
  },
  {
   "cell_type": "markdown",
   "metadata": {},
   "source": [
    "Now let's make some plots and do a comparison of total gate count and circuit depth."
   ]
  },
  {
   "cell_type": "code",
   "execution_count": 5,
   "metadata": {},
   "outputs": [],
   "source": [
    "min_N = 2\n",
    "max_N = 512\n",
    "\n",
    "gates_jw = [18*N - 21 for N in range(min_N, max_N)]\n",
    "gates_gc = []\n",
    "for N in range(min_N, max_N):\n",
    "    η = np.ceil(np.log2(N))\n",
    "    gates_gc.append(2*(η+1)*(2**η-1) - η**2)"
   ]
  },
  {
   "cell_type": "code",
   "execution_count": 6,
   "metadata": {},
   "outputs": [
    {
     "data": {
      "image/png": "[encoded data removed]",
      "text/plain": [
       "<Figure size 432x288 with 1 Axes>"
      ]
     },
     "metadata": {
      "needs_background": "light"
     },
     "output_type": "display_data"
    }
   ],
   "source": [
    "plt.plot(range(min_N, max_N), gates_gc, label=\"GC\")\n",
    "plt.plot(range(min_N, max_N), gates_jw, label=\"JW\")\n",
    "plt.xlabel(\"N\")\n",
    "plt.ylabel(\"Total gate count\")\n",
    "plt.title(\"Total VQE gate count\")\n",
    "plt.legend();"
   ]
  },
  {
   "cell_type": "code",
   "execution_count": 7,
   "metadata": {},
   "outputs": [],
   "source": [
    "min_N = 2\n",
    "max_N = 1024\n",
    "\n",
    "cnots_jw = [3*(3*N - 5) for N in range(min_N, max_N)]\n",
    "cnots_gc = []\n",
    "for N in range(min_N, max_N):\n",
    "    η = np.ceil(np.log2(N))\n",
    "    cnots_gc.append((η+1)*(2**η-η-1))"
   ]
  },
  {
   "cell_type": "code",
   "execution_count": 8,
   "metadata": {},
   "outputs": [
    {
     "data": {
      "image/png": "[encoded data removed]",
      "text/plain": [
       "<Figure size 432x288 with 1 Axes>"
      ]
     },
     "metadata": {
      "needs_background": "light"
     },
     "output_type": "display_data"
    }
   ],
   "source": [
    "plt.plot(range(min_N, max_N), cnots_gc, label=\"GC\")\n",
    "plt.plot(range(min_N, max_N), cnots_jw, label=\"JW\")\n",
    "plt.xlabel(\"N\")\n",
    "plt.ylabel(\"CNOT count\")\n",
    "plt.title(\"VQE ansatz CNOT counts\")\n",
    "plt.legend();"
   ]
  },
  {
   "cell_type": "markdown",
   "metadata": {},
   "source": [
    "We notice that after $N=256$, the GC encoding uses consistently more gates Before that point, it still used less gates for $N$ that were powers of 2."
   ]
  },
  {
   "cell_type": "code",
   "execution_count": 9,
   "metadata": {},
   "outputs": [],
   "source": [
    "# Now the depth...\n",
    "depth_jw = [4*N - 6 for N in range(min_N, max_N)]\n",
    "depth_gc = []\n",
    "for N in range(min_N, max_N):\n",
    "    η = np.ceil(np.log2(N))\n",
    "    depth_gc.append(int(np.ceil((2**η - 1)/η))*(η+1) - 2*η + (2**η-1)%η)"
   ]
  },
  {
   "cell_type": "code",
   "execution_count": 10,
   "metadata": {},
   "outputs": [
    {
     "data": {
      "image/png": "[encoded data removed]",
      "text/plain": [
       "<Figure size 432x288 with 1 Axes>"
      ]
     },
     "metadata": {
      "needs_background": "light"
     },
     "output_type": "display_data"
    }
   ],
   "source": [
    "plt.plot(range(min_N, max_N), depth_gc, label=\"GC\")\n",
    "plt.plot(range(min_N, max_N), depth_jw, label=\"JW\")\n",
    "plt.xlabel(\"N\")\n",
    "plt.ylabel(\"Depth\")\n",
    "plt.title(\"VQE ansatz depth comparison\")\n",
    "plt.legend();"
   ]
  },
  {
   "cell_type": "markdown",
   "metadata": {},
   "source": [
    "The ansatz used for the GC encoding always has lower depth, even though the number of gates is higher."
   ]
  }
 ],
 "metadata": {
  "kernelspec": {
   "display_name": "Python 3",
   "language": "python",
   "name": "python3"
  },
  "language_info": {
   "codemirror_mode": {
    "name": "ipython",
    "version": 3
   },
   "file_extension": ".py",
   "mimetype": "text/x-python",
   "name": "python",
   "nbconvert_exporter": "python",
   "pygments_lexer": "ipython3",
   "version": "3.7.5"
  }
 },
 "nbformat": 4,
 "nbformat_minor": 4
}
