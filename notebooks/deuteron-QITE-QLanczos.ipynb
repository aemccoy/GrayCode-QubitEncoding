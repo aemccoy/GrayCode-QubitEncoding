{
 "cells": [
  {
   "cell_type": "markdown",
   "metadata": {},
   "source": [
    "# Hamiltonian simulation with Gray code encoding - statevector simulator"
   ]
  },
  {
   "cell_type": "code",
   "execution_count": 1,
   "metadata": {},
   "outputs": [],
   "source": [
    "import numpy as np\n",
    "np.warnings.filterwarnings('ignore')\n",
    "\n",
    "import pickle\n",
    "\n",
    "from scipy.linalg import expm\n",
    "# import scipy\n",
    "from pprint import pprint\n",
    "from tqdm import tqdm\n",
    "\n",
    "from scipy.linalg import lstsq\n",
    "import scipy as sp\n",
    "\n",
    "# Everything we need from Qiskit\n",
    "from qiskit import ClassicalRegister, QuantumRegister, QuantumCircuit\n",
    "from qiskit import execute, Aer\n",
    "from qiskit.quantum_info import Pauli\n",
    "\n",
    "from qiskit.aqua.operators import WeightedPauliOperator\n",
    "from qiskit.aqua.components.initial_states import Custom\n",
    "\n",
    "import qutip as qt\n",
    "from tqdm import tqdm\n",
    "\n",
    "import matplotlib.pyplot as plt\n",
    "import seaborn as sns\n",
    "sns.set_style('whitegrid')\n",
    "sns.set(rc={'figure.figsize':(16,8)})\n",
    "sns.set()\n",
    "\n",
    "import itertools\n",
    "\n",
    "import sys\n",
    "sys.path.append(\"../src/\")\n",
    "from hamiltonian import *\n",
    "from utils import *\n",
    "from qiskit_circuits import *\n",
    "from qite import *"
   ]
  },
  {
   "cell_type": "markdown",
   "metadata": {},
   "source": [
    "## Playing with Pauli and WeightedPauli operators"
   ]
  },
  {
   "cell_type": "code",
   "execution_count": 2,
   "metadata": {},
   "outputs": [
    {
     "name": "stdout",
     "output_type": "stream",
     "text": [
      "{'IX': -7.813951636042159, 'ZX': 3.5273445861715977, 'XI': -3.913118960624632, 'XZ': 3.913118960624632, 'II': 14.3283547225, 'ZI': -8.4216452775, 'IZ': -1.4216452774999997, 'ZZ': -4.9216452775}\n"
     ]
    }
   ],
   "source": [
    "## H is always in qiskit order (right to left)\n",
    "## String form is also in that order \n",
    "## State vector results in order [00,01,10,11]\n",
    "\n",
    "n_qubits=2\n",
    "H = DenseEncodingHamiltonian(N_states=2**n_qubits,qiskit_order=False)\n",
    "print(H.pauli_coeffs)"
   ]
  },
  {
   "cell_type": "code",
   "execution_count": 3,
   "metadata": {},
   "outputs": [
    {
     "name": "stdout",
     "output_type": "stream",
     "text": [
      "key, [paulis in set]\n",
      "XX ['II', 'IX', 'XI', 'XX']\n",
      "XY ['IY', 'XY']\n",
      "XZ ['IZ', 'XZ']\n",
      "YX ['YI', 'YX']\n",
      "YY ['YY']\n",
      "YZ ['YZ']\n",
      "ZX ['ZI', 'ZX']\n",
      "ZY ['ZY']\n",
      "ZZ ['ZZ']\n"
     ]
    }
   ],
   "source": [
    "## vector of WeightedPauliOperators representing vector Sigma -- a list of all pauli terms with odd number of Y gates\n",
    "sigmas=get_sigma_pauli_terms(n_qubits)\n",
    "\n",
    "## b=i[H,sigma]\n",
    "b_pauli_terms=b_terms(H,sigmas)\n",
    "\n",
    "##S_{ij}=2sigma_i.sigma_j\n",
    "S_pauli_terms=S_terms(sigmas)\n",
    "\n",
    "## Set of all pauli terms needed to compute H, b, and S\n",
    "pauli_set=get_intersection_pauli_terms(H,b_pauli_terms,S_pauli_terms)\n",
    "\n",
    "## Organize pauli set into commuting sets of pauli operators \n",
    "commuting_sets=get_commuting_sets(sorted(pauli_set))\n",
    "print(\"key, [paulis in set]\")\n",
    "for p in commuting_sets:\n",
    "    print(p, commuting_sets[p])"
   ]
  },
  {
   "cell_type": "code",
   "execution_count": 4,
   "metadata": {},
   "outputs": [
    {
     "name": "stderr",
     "output_type": "stream",
     "text": [
      "100%|██████████| 10/10 [00:00<00:00, 16.97it/s]\n",
      "100%|██████████| 10/10 [00:05<00:00,  1.96it/s]\n"
     ]
    }
   ],
   "source": [
    "#####################################       \n",
    "# Prepare and run the evolution circuit\n",
    "#####################################       \n",
    "num_iterations=10\n",
    "delta_time=0.01\n",
    "\n",
    "initialization=\"zeros\"\n",
    "H = DenseEncodingHamiltonian(N_states=2**n_qubits,qiskit_order=False)\n",
    "\n",
    "backend = 'statevector_simulator'\n",
    "sv_energies,Ccoefs_sv=run_qite_experiment(H,num_iterations,delta_time,backend,initialization,A_threshold=1e-10,cstep=None)\n",
    "\n",
    "threshold=1e-2\n",
    "backend = 'qasm_simulator'\n",
    "qasm_energies,Ccoefs_qasm=run_qite_experiment(H,num_iterations,delta_time,backend,initialization,A_threshold=threshold,cstep=None)\n",
    "\n"
   ]
  },
  {
   "cell_type": "code",
   "execution_count": 12,
   "metadata": {
    "scrolled": false
   },
   "outputs": [
    {
     "data": {
      "text/plain": [
       "<matplotlib.legend.Legend at 0x153965a90>"
      ]
     },
     "execution_count": 12,
     "metadata": {},
     "output_type": "execute_result"
    },
    {
     "data": {
      "image/png": "[encoded data removed]",
      "text/plain": [
       "<Figure size 1152x576 with 1 Axes>"
      ]
     },
     "metadata": {},
     "output_type": "display_data"
    }
   ],
   "source": [
    "time=[delta_time*t for t in range(num_iterations)]\n",
    "plt.plot(time,sv_energies,'r--',label=\"SV\")\n",
    "plt.plot(time,qasm_energies,'b^',label=\"qasm\")\n",
    "plt.legend(prop={'size': 20})"
   ]
  },
  {
   "cell_type": "code",
   "execution_count": 6,
   "metadata": {},
   "outputs": [
    {
     "name": "stdout",
     "output_type": "stream",
     "text": [
      "[1.00436581 1.00778944 1.0104042  1.01243448 1.01403395 1.01531032\n",
      " 1.0163404  1.01717986 1.01786962 1.01844022]\n"
     ]
    }
   ],
   "source": [
    "print(Ccoefs_sv)"
   ]
  },
  {
   "cell_type": "code",
   "execution_count": 7,
   "metadata": {},
   "outputs": [
    {
     "name": "stdout",
     "output_type": "stream",
     "text": [
      "[1.00378783 1.00705574 1.01039165 1.01198037 1.01386246 1.01452111\n",
      " 1.01638496 1.01545054 1.01865951 1.02070174]\n"
     ]
    }
   ],
   "source": [
    "print(Ccoefs_qasm)"
   ]
  },
  {
   "cell_type": "code",
   "execution_count": 20,
   "metadata": {},
   "outputs": [
    {
     "name": "stdout",
     "output_type": "stream",
     "text": [
      "[[1.00875068 1.00875068 1.01563956 1.01563956 1.02091665]\n",
      " [1.00875068 1.01563956 1.01563956 1.02091665 1.02091665]\n",
      " [1.01563956 1.01563956 1.02091665 1.02091665 1.02502358]\n",
      " [1.01563956 1.02091665 1.02091665 1.02502358 1.02502358]\n",
      " [1.02091665 1.02091665 1.02502358 1.02502358 1.02826485]]\n",
      "[[-0.43658111 -0.43658111 -0.77894413 -0.77894413 -1.04042021]\n",
      " [-0.43658111 -0.77894413 -0.77894413 -1.04042021 -1.04042021]\n",
      " [-0.77894413 -0.77894413 -1.04042021 -1.04042021 -1.24344799]\n",
      " [-0.77894413 -1.04042021 -1.04042021 -1.24344799 -1.24344799]\n",
      " [-1.04042021 -1.04042021 -1.24344799 -1.24344799 -1.4033951 ]]\n"
     ]
    }
   ],
   "source": [
    "## Construct overlap matrix\n",
    "dim=int(num_iterations/2)\n",
    "Omatrix=np.asmatrix(np.zeros((dim,dim)))\n",
    "Hmatrix=np.asmatrix(np.zeros((dim,dim)))\n",
    "for i in range(0,dim):\n",
    "    for j in range(0,dim):\n",
    "        k=int((i+j)/2)\n",
    "        Omatrix[i,j]=Ccoefs_sv[k]**2\n",
    "print(Omatrix)\n",
    "## Construct H matrix \n",
    "for i in range(0,dim):\n",
    "    for j in range(0,dim):\n",
    "        k=int((i+j)/2)\n",
    "        Hmatrix[i,j]=sv_energies[k]\n",
    "print(Hmatrix)\n"
   ]
  },
  {
   "cell_type": "code",
   "execution_count": null,
   "metadata": {},
   "outputs": [],
   "source": []
  },
  {
   "cell_type": "code",
   "execution_count": 21,
   "metadata": {},
   "outputs": [],
   "source": []
  }
 ],
 "metadata": {
  "kernelspec": {
   "display_name": "Python 3",
   "language": "python",
   "name": "python3"
  },
  "language_info": {
   "codemirror_mode": {
    "name": "ipython",
    "version": 3
   },
   "file_extension": ".py",
   "mimetype": "text/x-python",
   "name": "python",
   "nbconvert_exporter": "python",
   "pygments_lexer": "ipython3",
   "version": "3.7.5"
  }
 },
 "nbformat": 4,
 "nbformat_minor": 4
}
