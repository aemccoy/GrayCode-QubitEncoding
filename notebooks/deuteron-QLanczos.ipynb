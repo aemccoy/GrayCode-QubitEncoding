{
 "cells": [
  {
   "cell_type": "markdown",
   "metadata": {},
   "source": [
    "# QLanczos"
   ]
  },
  {
   "cell_type": "code",
   "execution_count": 1,
   "metadata": {},
   "outputs": [],
   "source": [
    "import numpy as np\n",
    "np.warnings.filterwarnings('ignore')\n",
    "\n",
    "import pickle\n",
    "\n",
    "from scipy.linalg import expm\n",
    "from scipy.linalg import eigh\n",
    "from scipy.linalg import eig\n",
    "# import scipy\n",
    "from pprint import pprint\n",
    "from tqdm import tqdm\n",
    "\n",
    "from scipy.linalg import lstsq\n",
    "# import scipy as sp\n",
    "\n",
    "# Everything we need from Qiskit\n",
    "from qiskit import ClassicalRegister, QuantumRegister, QuantumCircuit\n",
    "from qiskit import execute, Aer\n",
    "from qiskit.quantum_info import Pauli\n",
    "\n",
    "from qiskit.aqua.operators import WeightedPauliOperator\n",
    "from qiskit.aqua.components.initial_states import Custom\n",
    "\n",
    "import qutip as qt\n",
    "from tqdm import tqdm\n",
    "\n",
    "import matplotlib.pyplot as plt\n",
    "import seaborn as sns\n",
    "sns.set_style('whitegrid')\n",
    "sns.set(rc={'figure.figsize':(16,8)})\n",
    "sns.set()\n",
    "\n",
    "import itertools\n",
    "\n",
    "import sys\n",
    "sys.path.append(\"../src/\")\n",
    "from hamiltonian import *\n",
    "from utils import *\n",
    "from qiskit_circuits import *\n",
    "from qite import *"
   ]
  },
  {
   "cell_type": "markdown",
   "metadata": {},
   "source": [
    "Calculate normalization coefficients using recurrence in "
   ]
  },
  {
   "cell_type": "code",
   "execution_count": 2,
   "metadata": {},
   "outputs": [],
   "source": [
    "def normalization_coefficient(ncoefs,Ccoefs,r):\n",
    "    \"\"\"\n",
    "    Compute the rth normalization coefficient via recurrence\n",
    "    \"\"\"\n",
    "    nr=ncoefs[r-1]\n",
    "    Cr=Ccoefs[r-1]\n",
    "    return nr/np.sqrt(Cr)\n",
    "\n",
    "def normalization_coefficients(Ccoef):\n",
    "    \"\"\"\n",
    "    Compute normalization coefficients from overlaps \n",
    "    \"\"\"\n",
    "    ncoefs=np.zeros(len(Ccoef))\n",
    "    ncoefs[0]=1/np.sqrt(Ccoef[0])\n",
    "    for r in range(1,len(Ccoef)):\n",
    "        ncoefs[r]=normalization_coefficient(ncoefs,Ccoef,r)\n",
    "    \n",
    "    return ncoefs\n"
   ]
  },
  {
   "cell_type": "markdown",
   "metadata": {},
   "source": [
    "QLanczos "
   ]
  },
  {
   "cell_type": "code",
   "execution_count": 67,
   "metadata": {},
   "outputs": [],
   "source": [
    "def Krylov_matrices(krylov_indices,ncoefs,energies,threshold=1e-2):\n",
    "    dim=len(krylov_indices)\n",
    "    \n",
    "    ## Construct overlap matrix\n",
    "    T=np.zeros((dim,dim))\n",
    "    for i in range(dim):\n",
    "        for j in range(dim):\n",
    "            l=krylov_indices[j]\n",
    "            lp=krylov_indices[i]\n",
    "            k=int((l+lp)/2)\n",
    "            T[i,j]=(ncoefs[l]*ncoefs[lp])/(ncoefs[k]**2)\n",
    "\n",
    "    ## Elimiate small eigenvalues form overlap matrix\n",
    "    eigs,evecs=eig(T)\n",
    "    print(eigs)\n",
    "    D=np.zeros((dim,dim))\n",
    "    for i in range(dim):\n",
    "        if abs(eigs[i].real)>threshold:\n",
    "            D[i,i]=eigs[i]\n",
    "    \n",
    "    T=np.dot(evecs.transpose(),np.dot(D,evecs))  \n",
    "            \n",
    "    ## Construct H matrix \n",
    "    H=np.zeros((dim,dim))\n",
    "    for i in range(0,dim):\n",
    "        for j in range(0,dim):\n",
    "            l=krylov_indices[j]\n",
    "            lp=krylov_indices[i]\n",
    "            k=int((l+lp)/2)\n",
    "            H[i,j]=T[i,j]*energies[k]\n",
    "            \n",
    "    return T,H\n",
    "\n",
    "\n",
    "\n",
    "def run_qlanczos_experiment(H,krylov_dim,delta_time,backend,initialization,max_iterations=100,krylov_threshold=.99999,A_threshold=1e-10,cstep=None):\n",
    "    \"\"\"\n",
    "    Run qite evolution to get energies of ground state \n",
    "    \"\"\"\n",
    "\n",
    "    n_qubits=H.N_qubits\n",
    "    n_shots=10000 ## Set to allowed number of shots at IBMQ\n",
    "\n",
    "    ## Get list of sigmas (all pauli terms with odd number Y gates)\n",
    "    sigmas=sigma_terms(n_qubits)\n",
    "\n",
    "    ## Construct b in terms of paulis \n",
    "    b_pauli_terms=b_terms(H,sigmas)\n",
    "    \n",
    "    ## Construct S in terms of paulis\n",
    "    S_pauli_terms=S_terms(sigmas)\n",
    "\n",
    "    ## Get composite set of pauli terms that need to be calculated for QITE \n",
    "    pauli_set=get_intersection_pauli_terms(H,b_pauli_terms,S_pauli_terms)\n",
    "\n",
    "    ## Get commuting set \n",
    "    commuting_sets=get_commuting_sets(sorted(pauli_set))\n",
    "    \n",
    "    ## Zero initialize \n",
    "    A_set=[]\n",
    "    a=np.zeros(len(sigmas))\n",
    "    Energies=[]\n",
    "    Ccoefs=[]\n",
    "    ncoefs=[]\n",
    "    \n",
    "    ## for each time step, run circuit and compute A for the next time step\n",
    "    krylov_indices=[0]\n",
    "    t=0\n",
    "    while len(krylov_indices)<krylov_dim:\n",
    "        if t>max_iterations:\n",
    "            break\n",
    "        expectation_values={}\n",
    "        if backend=='statevector_simulator':\n",
    "            ## Run circuit to get state vector\n",
    "            psi=run_circuit_statevector(n_qubits,A_set,delta_time,initialization=None)\n",
    "\n",
    "            ## Compute expectation value for each pauli term \n",
    "            for pauli_id in commuting_sets:        \n",
    "                for pauli in commuting_sets[pauli_id]: \n",
    "                    pauli_mat = get_pauli_matrix(pauli)\n",
    "                    e_value=np.conj(psi).T @ pauli_mat @ psi\n",
    "                    expectation_values[pauli]=e_value\n",
    "\n",
    "        else:\n",
    "            for pauli_id in commuting_sets:   \n",
    "                ## Run circuit to get counts \n",
    "                meas_results=run_circuit_qasm(n_qubits,A_set,pauli_id,delta_time,n_shots=n_shots,initialization=None)\n",
    "\n",
    "                ## Compute expectation value for each pauli term \n",
    "                for pauli in commuting_sets[pauli_id]: \n",
    "                    expectation_values[pauli]=compute_expectation_value(pauli,meas_results)    \n",
    "\n",
    "\n",
    "        ## Compute energy\n",
    "        H_pauli=H.pauli_coeffs\n",
    "        energy=0.0\n",
    "        for key in H_pauli:\n",
    "            energy+=H_pauli[key]*expectation_values[key]\n",
    "\n",
    "        Energies.append(energy.real)\n",
    "\n",
    "        ## compute normalization coef C=1-2*E*delta_times\n",
    "        Ccoef=1-2*delta_time*Energies[t]\n",
    "        Ccoefs.append(Ccoef)\n",
    "        \n",
    "        ## Compute A\n",
    "        A_set.append(A_pauli_operator(delta_time,sigmas,S_pauli_terms,b_pauli_terms,expectation_values,Ccoef,A_threshold))\n",
    "\n",
    "        if isinstance(cstep,int):\n",
    "            if t%cstep==0:\n",
    "                identity_string=\"I\"*n_qubits\n",
    "                A_combine=WeightedPauliOperator([(0.0,Pauli.from_label(identity_string))])\n",
    "                for A in A_set:\n",
    "                    A_combine+=A\n",
    "                A_set=[A_combine]\n",
    "         \n",
    "        ### Compute normalization factor \n",
    "        if t==0:\n",
    "            ncoefs.append(1.0)\n",
    "        else:\n",
    "            ncoefs.append(normalization_coefficient(ncoefs,Ccoefs,t))\n",
    "            \n",
    "            ## If even time step, check overlap\n",
    "            if t%2==0:        \n",
    "                i=t\n",
    "                j=krylov_indices[-1]\n",
    "                k=int((i+j)/2)\n",
    "                regularization_factor=(ncoefs[i]*ncoefs[j])/(ncoefs[k]**2)\n",
    "                if regularization_factor<krylov_threshold:\n",
    "                    krylov_indices.append(i)\n",
    "        \n",
    "        ### increment t\n",
    "        t+=1    \n",
    "\n",
    "    ## Construct krylove matries \n",
    "    T_krylov,H_krylov=Krylov_matrices(krylov_indices,ncoefs,Energies,threshold=.5)\n",
    "\n",
    "    ## Solve generalized eigenproblem\n",
    "    eigs,vecs=eig(H_krylov,T_krylov)\n",
    "#     print(eigs.real)\n",
    "    idx = eigs.argsort()[0]\n",
    "#     print(idx)\n",
    "#     print(f\"Iterations: {t-1}\")\n",
    "#     print(f\"Krylov dim: {len(krylov_indices)}\")\n",
    "    return eigs[idx].real\n",
    "\n",
    "\n",
    "def eliminate_outliers(energies):\n",
    "    mean=np.mean(energies)\n",
    "    sd=np.std(energies)\n",
    "    survivors=[]\n",
    "    for e in energies:\n",
    "        if abs(e)<=(abs(mean)+2*sd):\n",
    "            survivors.append(e)\n",
    "        else:\n",
    "            print(f\"{e:.5f} killed\")\n",
    "    return survivors"
   ]
  },
  {
   "cell_type": "code",
   "execution_count": 68,
   "metadata": {},
   "outputs": [
    {
     "name": "stdout",
     "output_type": "stream",
     "text": [
      "N qubits: 2\n",
      "[ 6.90031798e+00+0.j  9.78218276e-02+0.j  1.84656122e-03+0.j\n",
      "  1.45231221e-05+0.j -8.89996406e-07+0.j -1.83253655e-09+0.j\n",
      " -1.71962491e-11+0.j]\n"
     ]
    }
   ],
   "source": [
    "H = hamiltonian_matrix(Nmax=6,J=1,interaction=\"toy\")\n",
    "exact_eigenvalue,_=eigh(H)\n",
    "\n",
    "H_qubit = GrayCodeHamiltonian(H)\n",
    "n_qubits=H_qubit.N_qubits\n",
    "print(f\"N qubits: {n_qubits}\")\n",
    "\n",
    "initialization=\"single_state\"\n",
    "backend = 'statevector_simulator'\n",
    "\n",
    "# krylov_dim=8\n",
    "# kthreshold=.998\n",
    "\n",
    "krylov_dim=7\n",
    "kthreshold=.999\n",
    "\n",
    "max_itr=100\n",
    "delta_time=0.01\n",
    "QL_energy=run_qlanczos_experiment(H_qubit,krylov_dim,delta_time,backend,initialization,max_iterations=max_itr,krylov_threshold=kthreshold,A_threshold=1e-10,cstep=1)\n",
    "# print(QL_energies)"
   ]
  },
  {
   "cell_type": "code",
   "execution_count": 69,
   "metadata": {},
   "outputs": [
    {
     "name": "stderr",
     "output_type": "stream",
     "text": [
      "100%|██████████| 20/20 [00:00<00:00, 79.09it/s]"
     ]
    },
    {
     "name": "stdout",
     "output_type": "stream",
     "text": [
      "Exact eigenvalue: -2.14398\n",
      "Qite eigenvalue: -2.08738\n",
      "QLancozs eigenvalue: -2.14395\n"
     ]
    },
    {
     "name": "stderr",
     "output_type": "stream",
     "text": [
      "\n"
     ]
    }
   ],
   "source": [
    "time_steps=20\n",
    "Qite_energies=qite_experiment(H_qubit,time_steps,delta_time,backend,initialization,A_threshold=1e-10,cstep=1)\n",
    "print(f\"Exact eigenvalue: {exact_eigenvalue[0]:0.6}\")\n",
    "print(f\"Qite eigenvalue: {Qite_energies[-1]:0.6}\")\n",
    "print(f\"QLancozs eigenvalue: {QL_energy:0.6}\")"
   ]
  },
  {
   "cell_type": "code",
   "execution_count": 70,
   "metadata": {},
   "outputs": [
    {
     "name": "stderr",
     "output_type": "stream",
     "text": [
      "\r",
      "  0%|          | 0/10 [00:00<?, ?it/s]"
     ]
    },
    {
     "name": "stdout",
     "output_type": "stream",
     "text": [
      "N qubits: 2\n"
     ]
    },
    {
     "name": "stderr",
     "output_type": "stream",
     "text": [
      "\r",
      " 10%|█         | 1/10 [00:05<00:46,  5.21s/it]"
     ]
    },
    {
     "name": "stdout",
     "output_type": "stream",
     "text": [
      "[ 8.87866942e+00+0.j  1.16618263e-01+0.j  7.11388682e-03+0.j\n",
      "  4.47665720e-03+0.j -5.07565262e-03+0.j -3.18868802e-03+0.j\n",
      "  1.73983527e-03+0.j  2.90373730e-04+0.j -6.44092055e-04+0.j]\n"
     ]
    },
    {
     "name": "stderr",
     "output_type": "stream",
     "text": [
      "\r",
      " 20%|██        | 2/10 [00:10<00:41,  5.22s/it]"
     ]
    },
    {
     "name": "stdout",
     "output_type": "stream",
     "text": [
      "[ 7.87891491e+00+0.j  1.20102366e-01+0.j -8.27674399e-03+0.j\n",
      "  7.87869704e-03+0.j -2.73839364e-03+0.j  3.00027770e-03+0.j\n",
      "  7.17206753e-04+0.j  4.01682866e-04+0.j]\n"
     ]
    },
    {
     "name": "stderr",
     "output_type": "stream",
     "text": [
      "\r",
      " 30%|███       | 3/10 [00:15<00:36,  5.24s/it]"
     ]
    },
    {
     "name": "stdout",
     "output_type": "stream",
     "text": [
      "[ 7.90712800e+00+0.j  9.59339380e-02+0.j -1.03489802e-02+0.j\n",
      "  5.78159214e-03+0.j -1.81095119e-03+0.j  2.27549374e-03+0.j\n",
      " -1.90683181e-05+0.j  1.05997983e-03+0.j]\n"
     ]
    },
    {
     "name": "stderr",
     "output_type": "stream",
     "text": [
      "\r",
      " 40%|████      | 4/10 [00:21<00:31,  5.28s/it]"
     ]
    },
    {
     "name": "stdout",
     "output_type": "stream",
     "text": [
      "[ 6.90625418e+00+0.j  9.59592726e-02+0.j -1.09396747e-02+0.j\n",
      "  8.41403629e-03+0.j  2.30964937e-03+0.j -1.79048596e-03+0.j\n",
      " -2.06976702e-04+0.j]\n"
     ]
    },
    {
     "name": "stderr",
     "output_type": "stream",
     "text": [
      "\r",
      " 50%|█████     | 5/10 [00:26<00:26,  5.28s/it]"
     ]
    },
    {
     "name": "stdout",
     "output_type": "stream",
     "text": [
      "[ 8.89638253e+00+0.j  9.50920483e-02+0.j -1.20245484e-02+0.j\n",
      "  1.39729833e-02+0.j -3.71234614e-03+0.j -3.69127003e-04+0.j\n",
      "  1.50033622e-03+0.j  4.06305362e-03+0.j  5.09506850e-03+0.j]\n"
     ]
    },
    {
     "name": "stderr",
     "output_type": "stream",
     "text": [
      "\r",
      " 60%|██████    | 6/10 [00:31<00:21,  5.29s/it]"
     ]
    },
    {
     "name": "stdout",
     "output_type": "stream",
     "text": [
      "[ 8.87435589e+00+0.j  1.25797176e-01+0.j -6.71101972e-03+0.j\n",
      " -2.93060619e-03+0.j -1.26380438e-03+0.j -2.35615418e-04+0.j\n",
      "  5.01132934e-03+0.j  2.11834129e-03+0.j  3.85830687e-03+0.j]\n"
     ]
    },
    {
     "name": "stderr",
     "output_type": "stream",
     "text": [
      "\r",
      " 70%|███████   | 7/10 [00:36<00:15,  5.29s/it]"
     ]
    },
    {
     "name": "stdout",
     "output_type": "stream",
     "text": [
      "[ 1.08621089e+01+0.j  1.27803024e-01+0.j  7.10384270e-03+0.j\n",
      " -4.60283047e-03+0.j -2.28949170e-03+0.j -1.31301589e-03+0.j\n",
      " -6.48997404e-04+0.j  4.47968580e-03+0.j  1.27278455e-03+0.j\n",
      "  2.64830104e-03+0.j  3.43776543e-03+0.j]\n"
     ]
    },
    {
     "name": "stderr",
     "output_type": "stream",
     "text": [
      "\r",
      " 80%|████████  | 8/10 [00:42<00:10,  5.30s/it]"
     ]
    },
    {
     "name": "stdout",
     "output_type": "stream",
     "text": [
      "[ 7.91007593e+00+0.j  9.45021674e-02+0.j -8.74831272e-03+0.j\n",
      " -1.80700724e-03+0.j -1.19264053e-03+0.j  3.48367851e-03+0.j\n",
      "  1.11898016e-03+0.j  2.56720094e-03+0.j]\n"
     ]
    },
    {
     "name": "stderr",
     "output_type": "stream",
     "text": [
      "\r",
      " 90%|█████████ | 9/10 [00:47<00:05,  5.29s/it]"
     ]
    },
    {
     "name": "stdout",
     "output_type": "stream",
     "text": [
      "[ 6.89297695e+00+0.j  1.01971813e-01+0.j  9.40819677e-03+0.j\n",
      "  3.38545700e-03+0.j -4.66626077e-03+0.j -1.82086914e-03+0.j\n",
      " -1.25528547e-03+0.j]\n"
     ]
    },
    {
     "name": "stderr",
     "output_type": "stream",
     "text": [
      "100%|██████████| 10/10 [00:52<00:00,  5.29s/it]"
     ]
    },
    {
     "name": "stdout",
     "output_type": "stream",
     "text": [
      "[ 7.91026556e+00+0.j  8.59616066e-02+0.j  6.64145337e-03+0.j\n",
      " -6.06464452e-03+0.j -2.38835735e-03+0.j  2.93274065e-03+0.j\n",
      "  1.62986588e-03+0.j  1.02177151e-03+0.j]\n",
      "[-2.082863155480637, -2.198327910523626, -2.550908997391437, -2.4123346685724836, -2.0500364454438365, -2.0699219651662237, -2.109389723445415, -1.9323809507927392, -4.100717578782397, -2.083670748103141]\n"
     ]
    },
    {
     "name": "stderr",
     "output_type": "stream",
     "text": [
      "\n"
     ]
    }
   ],
   "source": [
    "Nmax=6\n",
    "H = hamiltonian_matrix(Nmax,J=1,interaction=\"toy\")\n",
    "exact_eigenvalue,_=eigh(H)\n",
    "\n",
    "H_qubit = GrayCodeHamiltonian(H)\n",
    "n_qubits=H_qubit.N_qubits\n",
    "print(f\"N qubits: {n_qubits}\")\n",
    "\n",
    "initialization=\"zeros\"\n",
    "backend = 'qasm_simulator'\n",
    "\n",
    "# krylov_dim=8\n",
    "# kthreshold=.998\n",
    "\n",
    "max_itr=20\n",
    "krylov_dim=20\n",
    "kthreshold=.99999\n",
    "\n",
    "\n",
    "delta_time=0.01\n",
    "energies=[]\n",
    "for i in tqdm(range(10)):\n",
    "    QL_energy=run_qlanczos_experiment(H_qubit,krylov_dim,delta_time,backend,initialization,max_iterations=max_itr,krylov_threshold=kthreshold,A_threshold=1e-2,cstep=1)\n",
    "    energies.append(QL_energy)\n",
    "#     print(QL_energy)\n",
    "print(energies)"
   ]
  },
  {
   "cell_type": "code",
   "execution_count": 71,
   "metadata": {},
   "outputs": [
    {
     "name": "stdout",
     "output_type": "stream",
     "text": [
      "-2.3590552143701937 0.6061733011002934\n",
      "-4.10072 killed\n",
      "-2.165537173879949\n"
     ]
    }
   ],
   "source": [
    "e_mean=np.mean(energies)\n",
    "sd=np.std(energies)\n",
    "print(e_mean,sd)\n",
    "\n",
    "survivors=eliminate_outliers(energies)\n",
    "print(np.mean(survivors))"
   ]
  },
  {
   "cell_type": "code",
   "execution_count": 61,
   "metadata": {},
   "outputs": [
    {
     "name": "stderr",
     "output_type": "stream",
     "text": [
      "100%|██████████| 40/40 [00:10<00:00,  3.98it/s]"
     ]
    },
    {
     "name": "stdout",
     "output_type": "stream",
     "text": [
      "Exact eigenvalue: -2.14398\n",
      "Qite eigenvalue: -2.20641\n",
      "QLancozs eigenvalue: -2.08481\n"
     ]
    },
    {
     "name": "stderr",
     "output_type": "stream",
     "text": [
      "\n"
     ]
    }
   ],
   "source": [
    "time_steps=40\n",
    "Qite_energies=qite_experiment(H_qubit,time_steps,delta_time,backend,initialization,A_threshold=1e-2,cstep=1)\n",
    "print(f\"Exact eigenvalue: {exact_eigenvalue[0]:0.6}\")\n",
    "print(f\"Qite eigenvalue: {Qite_energies[-1]:0.6}\")\n",
    "print(f\"QLancozs eigenvalue: {QL_energy:0.6}\")"
   ]
  },
  {
   "cell_type": "code",
   "execution_count": 62,
   "metadata": {},
   "outputs": [
    {
     "data": {
      "text/plain": [
       "<matplotlib.legend.Legend at 0x177fbfb50>"
      ]
     },
     "execution_count": 62,
     "metadata": {},
     "output_type": "execute_result"
    },
    {
     "data": {
      "image/png": "[encoded data removed]",
      "text/plain": [
       "<Figure size 1152x576 with 1 Axes>"
      ]
     },
     "metadata": {},
     "output_type": "display_data"
    }
   ],
   "source": [
    "time=[t for t in range(time_steps)]\n",
    "plt.plot(time,Qite_energies,'b^',label=\"dt=0.01\")\n",
    "plt.legend(prop={'size': 20})"
   ]
  },
  {
   "cell_type": "code",
   "execution_count": null,
   "metadata": {},
   "outputs": [],
   "source": []
  }
 ],
 "metadata": {
  "kernelspec": {
   "display_name": "Python 3",
   "language": "python",
   "name": "python3"
  },
  "language_info": {
   "codemirror_mode": {
    "name": "ipython",
    "version": 3
   },
   "file_extension": ".py",
   "mimetype": "text/x-python",
   "name": "python",
   "nbconvert_exporter": "python",
   "pygments_lexer": "ipython3",
   "version": "3.7.5"
  }
 },
 "nbformat": 4,
 "nbformat_minor": 4
}
