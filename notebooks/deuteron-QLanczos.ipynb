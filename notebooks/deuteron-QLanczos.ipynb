{
 "cells": [
  {
   "cell_type": "markdown",
   "metadata": {},
   "source": [
    "# QLanczos"
   ]
  },
  {
   "cell_type": "code",
   "execution_count": 25,
   "metadata": {},
   "outputs": [],
   "source": [
    "import numpy as np\n",
    "np.warnings.filterwarnings('ignore')\n",
    "\n",
    "import pickle\n",
    "\n",
    "from scipy.linalg import expm\n",
    "from scipy.linalg import eigh\n",
    "from scipy.linalg import eig\n",
    "# import scipy\n",
    "from pprint import pprint\n",
    "from tqdm import tqdm\n",
    "\n",
    "from scipy.linalg import lstsq\n",
    "# import scipy as sp\n",
    "\n",
    "# Everything we need from Qiskit\n",
    "from qiskit import ClassicalRegister, QuantumRegister, QuantumCircuit\n",
    "from qiskit import execute, Aer\n",
    "from qiskit.quantum_info import Pauli\n",
    "\n",
    "from qiskit.aqua.operators import WeightedPauliOperator\n",
    "from qiskit.aqua.components.initial_states import Custom\n",
    "\n",
    "import qutip as qt\n",
    "from tqdm import tqdm\n",
    "\n",
    "import matplotlib.pyplot as plt\n",
    "import seaborn as sns\n",
    "sns.set_style('whitegrid')\n",
    "sns.set(rc={'figure.figsize':(16,8)})\n",
    "sns.set()\n",
    "\n",
    "import itertools\n",
    "\n",
    "import sys\n",
    "sys.path.append(\"../src/\")\n",
    "from hamiltonian import *\n",
    "from utils import *\n",
    "from qiskit_circuits import *\n",
    "from qite import *\n",
    "from qlanczos import *"
   ]
  },
  {
   "cell_type": "markdown",
   "metadata": {},
   "source": [
    "# QLanczos\n",
    "Do a fixed number of QITE time steps, then working backwards from the last step, selecting krylov vectors from even time steps $i$ satisfying requirements $\\langle\\psi_j|\\psi_i\\rangle<k$, where $k$ is the \"krylov threshold and $j$ runs over all vectors already included in the Krylov basis.\""
   ]
  },
  {
   "cell_type": "code",
   "execution_count": 26,
   "metadata": {},
   "outputs": [
    {
     "name": "stdout",
     "output_type": "stream",
     "text": [
      "[-2.14398103  6.07151323 17.75169828 35.63418841]\n",
      "Hamiltonian Pauli rep\n",
      "(14.3283547225+0j) [] +\n",
      "(-7.813951636042159+0j) [X0] +\n",
      "(3.5273445861715977+0j) [X0 Z1] +\n",
      "(-1.4216452774999997+0j) [Z0] +\n",
      "(3.913118960624632+0j) [Z0 X1] +\n",
      "(-4.9216452775+0j) [Z0 Z1] +\n",
      "(-3.913118960624632+0j) [X1] +\n",
      "(-8.4216452775+0j) [Z1] \n",
      "\n",
      "Pauli partitions\n",
      "{'ZZ': ['II', 'IZ', 'ZI', 'ZZ'], 'ZX': ['IX', 'ZX'], 'XZ': ['XI', 'XZ']} \n",
      "\n",
      "Dim Krylov space: 2\n"
     ]
    },
    {
     "data": {
      "text/plain": [
       "array([-2.14081135,  7.70312323])"
      ]
     },
     "execution_count": 26,
     "metadata": {},
     "output_type": "execute_result"
    }
   ],
   "source": [
    "parameters = {\n",
    "    'Nmax' : 6,\n",
    "    'interaction':\"toy\",\n",
    "    'encoding' : 'gray_code',\n",
    "    'initialization' : 'single_state',\n",
    "    'backend' : 'statevector_simulator',\n",
    "    'N_trials' : 1,\n",
    "    'N_shots' : 10000,\n",
    "    'N_time_steps': 30,\n",
    "    'delta_time' : 0.01,\n",
    "    'merge_step' : 1,\n",
    "    'qite_threshold' : 1e-2, \n",
    "    'qlanczos':True,\n",
    "    'qlanczos_threshold':1e-2,\n",
    "    'krylov_threshold':.95,\n",
    "    'show_progress' : False\n",
    "    }\n",
    "set_qite_parameters(parameters,verbose=False)\n",
    "\n",
    "H = hamiltonian_matrix(Nmax=parameters['Nmax'], J=1, interaction=parameters['interaction'])\n",
    "\n",
    "exact_eigenvalues,_=eigh(H)\n",
    "print(exact_eigenvalues)\n",
    "\n",
    "dummy_index=0\n",
    "do_qlanczos_experiment(dummy_index,parameters)"
   ]
  },
  {
   "cell_type": "code",
   "execution_count": 27,
   "metadata": {},
   "outputs": [
    {
     "name": "stderr",
     "output_type": "stream",
     "text": [
      "  3%|▎         | 1/30 [00:00<00:05,  5.51it/s]"
     ]
    },
    {
     "name": "stdout",
     "output_type": "stream",
     "text": [
      "Hamiltonian Pauli rep\n",
      "(14.3283547225+0j) [] +\n",
      "(-7.813951636042159+0j) [X0] +\n",
      "(3.5273445861715977+0j) [X0 Z1] +\n",
      "(-1.4216452774999997+0j) [Z0] +\n",
      "(3.913118960624632+0j) [Z0 X1] +\n",
      "(-4.9216452775+0j) [Z0 Z1] +\n",
      "(-3.913118960624632+0j) [X1] +\n",
      "(-8.4216452775+0j) [Z1] \n",
      "\n",
      "Pauli partitions\n",
      "{'ZZ': ['II', 'IZ', 'ZI', 'ZZ'], 'ZX': ['IX', 'ZX'], 'XZ': ['XI', 'XZ']} \n",
      "\n"
     ]
    },
    {
     "name": "stderr",
     "output_type": "stream",
     "text": [
      "100%|██████████| 30/30 [00:05<00:00,  5.58it/s]"
     ]
    },
    {
     "name": "stdout",
     "output_type": "stream",
     "text": [
      "Dim Krylov space: 2\n"
     ]
    },
    {
     "name": "stderr",
     "output_type": "stream",
     "text": [
      "\n"
     ]
    },
    {
     "data": {
      "text/plain": [
       "array([-2.20045237,  6.4509756 ])"
      ]
     },
     "execution_count": 27,
     "metadata": {},
     "output_type": "execute_result"
    }
   ],
   "source": [
    "parameters[ 'backend'] ='qasm_simulator'\n",
    "parameters['show_progress'] = True\n",
    "dummy_index=0\n",
    "do_qlanczos_experiment(dummy_index,parameters)"
   ]
  },
  {
   "cell_type": "markdown",
   "metadata": {},
   "source": [
    "# Iterative QLanczos: \n",
    "\n",
    "Continue adding time steps until required number of Krylov vectors obtained.  The state $|\\psi_i\\rangle$ is included in the Krylov basis if $\\langle\\psi_j|\\psi_i\\rangle<k$, where $k$ is the \"krylov threshold\" and $j$ runs over all states already included in the basis. "
   ]
  },
  {
   "cell_type": "code",
   "execution_count": 3,
   "metadata": {},
   "outputs": [
    {
     "name": "stdout",
     "output_type": "stream",
     "text": [
      "Iterations: 30\n",
      "Krylov dim: 2\n"
     ]
    },
    {
     "data": {
      "text/plain": [
       "array([ 8.93303474, -2.10572311])"
      ]
     },
     "execution_count": 3,
     "metadata": {},
     "output_type": "execute_result"
    }
   ],
   "source": [
    "krylov_dim=2\n",
    "run_qlanczos_experiment_iterative(parameters,4)"
   ]
  },
  {
   "cell_type": "markdown",
   "metadata": {},
   "source": [
    "# Comparison with QITE"
   ]
  },
  {
   "cell_type": "code",
   "execution_count": 18,
   "metadata": {},
   "outputs": [
    {
     "name": "stdout",
     "output_type": "stream",
     "text": [
      "Hamiltonian Pauli rep\n",
      "(14.3283547225+0j) [] +\n",
      "(-7.813951636042159+0j) [X0] +\n",
      "(3.5273445861715977+0j) [X0 Z1] +\n",
      "(-1.4216452774999997+0j) [Z0] +\n",
      "(3.913118960624632+0j) [Z0 X1] +\n",
      "(-4.9216452775+0j) [Z0 Z1] +\n",
      "(-3.913118960624632+0j) [X1] +\n",
      "(-8.4216452775+0j) [Z1] \n",
      "\n",
      "Pauli partitions\n",
      "{'ZZ': ['II', 'IZ', 'ZI', 'ZZ'], 'ZX': ['IX', 'ZX'], 'XZ': ['XI', 'XZ']} \n",
      "\n"
     ]
    }
   ],
   "source": [
    "parameters['Nmax'] = 6\n",
    "parameters['backend'] = 'qasm_simulator'\n",
    "parameters['qlanczos'] = True\n",
    "parameters['show_progress'] = False\n",
    "parameters['N_trials'] = 20\n",
    "\n",
    "qite_energies=[]\n",
    "qlanczos_coefs=[]\n",
    "\n",
    "for i in range(parameters['N_trials']):\n",
    "    energies,coefs=do_qite_experiment(i,parameters)\n",
    "    qite_energies.append(energies)\n",
    "    qlanczos_coefs.append(coefs)"
   ]
  },
  {
   "cell_type": "code",
   "execution_count": 21,
   "metadata": {},
   "outputs": [
    {
     "name": "stdout",
     "output_type": "stream",
     "text": [
      "Dim Krylov space: 2\n",
      "Dim Krylov space: 2\n",
      "Dim Krylov space: 2\n",
      "Dim Krylov space: 2\n",
      "Dim Krylov space: 2\n",
      "Dim Krylov space: 2\n",
      "Dim Krylov space: 2\n",
      "Dim Krylov space: 2\n",
      "Dim Krylov space: 2\n",
      "Dim Krylov space: 2\n",
      "Dim Krylov space: 2\n",
      "Dim Krylov space: 2\n",
      "Dim Krylov space: 2\n",
      "Dim Krylov space: 2\n",
      "Dim Krylov space: 2\n",
      "Dim Krylov space: 2\n",
      "Dim Krylov space: 2\n",
      "Dim Krylov space: 2\n",
      "Dim Krylov space: 2\n",
      "Dim Krylov space: 2\n"
     ]
    }
   ],
   "source": [
    "qlanczos_energies=[]\n",
    "for i in range(parameters['N_trials']):\n",
    "    Ccoefs=qlanczos_coefs[i]\n",
    "    krylov_threshold = parameters['krylov_threshold']\n",
    "    zero_threshold = parameters['qlanczos_threshold']\n",
    "    energies=do_QLanczos(Ccoefs,qite_energies[i],krylov_threshold,zero_threshold)\n",
    "    sorted_energies=np.sort(energies)\n",
    "    qlanczos_energies.append(sorted_energies[0])"
   ]
  },
  {
   "cell_type": "code",
   "execution_count": 22,
   "metadata": {},
   "outputs": [
    {
     "name": "stdout",
     "output_type": "stream",
     "text": [
      "-2.146728570108523 0.10013941442384755\n",
      "-2.146728570108523 0.10013941442384755\n"
     ]
    }
   ],
   "source": [
    "qite_averages=np.mean(qite_energies,0)\n",
    "qite_stds=np.std(qite_energies,0)\n",
    "    \n",
    "qite_mean=qite_averages[-1]\n",
    "qite_std=qite_stds[-1]\n",
    "\n",
    "qlanczos_mean=np.mean(qlanczos_energies)\n",
    "qlanczos_std=np.std(qlanczos_energies)\n",
    "print(qlanczos_mean,qlanczos_std)\n",
    "\n",
    "survivors=qlanczos_energies\n",
    "survivors=remove_outliers(survivors)\n",
    "qlanczos_mean=np.mean(survivors)\n",
    "qlanczos_std=np.std(survivors)\n",
    "print(qlanczos_mean,qlanczos_std)\n"
   ]
  },
  {
   "cell_type": "code",
   "execution_count": 23,
   "metadata": {},
   "outputs": [
    {
     "name": "stdout",
     "output_type": "stream",
     "text": [
      "Exact eigenvalue:    -2.143981\n",
      "Qite eigenvalue:     -2.1235 0.1124\n",
      "QLancozs eigenvalue: -2.1467 0.1001\n"
     ]
    }
   ],
   "source": [
    "H=hamiltonian_matrix(Nmax=parameters['Nmax'], J=1, interaction=parameters['interaction'])\n",
    "eigs,_=eigh(H)\n",
    "exact_eigenvalue=eigs[0]\n",
    "print(f\"Exact eigenvalue:    {exact_eigenvalue:0.6f}\")\n",
    "print(f\"Qite eigenvalue:     {qite_mean:0.4f} {qite_std:0.4f}\")\n",
    "print(f\"QLancozs eigenvalue: {qlanczos_mean:0.4f} {qlanczos_std:0.4f}\")"
   ]
  },
  {
   "cell_type": "code",
   "execution_count": 24,
   "metadata": {},
   "outputs": [
    {
     "data": {
      "text/plain": [
       "<ErrorbarContainer object of 3 artists>"
      ]
     },
     "execution_count": 24,
     "metadata": {},
     "output_type": "execute_result"
    },
    {
     "data": {
      "image/png": "[encoded data removed]",
      "text/plain": [
       "<Figure size 1152x576 with 1 Axes>"
      ]
     },
     "metadata": {},
     "output_type": "display_data"
    }
   ],
   "source": [
    "time=[t for t in range(len(qite_averages))]\n",
    "plt.errorbar(time,qite_averages,yerr=qite_stds, capsize=4, fmt='go')"
   ]
  }
 ],
 "metadata": {
  "kernelspec": {
   "display_name": "Python 3",
   "language": "python",
   "name": "python3"
  },
  "language_info": {
   "codemirror_mode": {
    "name": "ipython",
    "version": 3
   },
   "file_extension": ".py",
   "mimetype": "text/x-python",
   "name": "python",
   "nbconvert_exporter": "python",
   "pygments_lexer": "ipython3",
   "version": "3.7.5"
  }
 },
 "nbformat": 4,
 "nbformat_minor": 4
}
