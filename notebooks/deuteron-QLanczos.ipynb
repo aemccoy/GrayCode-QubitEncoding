{
 "cells": [
  {
   "cell_type": "markdown",
   "metadata": {},
   "source": [
    "# Hamiltonian simulation with Gray code encoding - statevector simulator"
   ]
  },
  {
   "cell_type": "code",
   "execution_count": 15,
   "metadata": {},
   "outputs": [],
   "source": [
    "import numpy as np\n",
    "np.warnings.filterwarnings('ignore')\n",
    "\n",
    "import pickle\n",
    "\n",
    "from scipy.linalg import expm\n",
    "# import scipy\n",
    "from pprint import pprint\n",
    "from tqdm import tqdm\n",
    "\n",
    "from scipy.linalg import lstsq\n",
    "import scipy as sp\n",
    "\n",
    "# Everything we need from Qiskit\n",
    "from qiskit import ClassicalRegister, QuantumRegister, QuantumCircuit\n",
    "from qiskit import execute, Aer\n",
    "from qiskit.quantum_info import Pauli\n",
    "\n",
    "from qiskit.aqua.operators import WeightedPauliOperator\n",
    "from qiskit.aqua.components.initial_states import Custom\n",
    "\n",
    "import qutip as qt\n",
    "from tqdm import tqdm\n",
    "\n",
    "import matplotlib.pyplot as plt\n",
    "import seaborn as sns\n",
    "sns.set_style('whitegrid')\n",
    "sns.set(rc={'figure.figsize':(16,8)})\n",
    "sns.set()\n",
    "\n",
    "import itertools\n",
    "\n",
    "import sys\n",
    "sys.path.append(\"../src/\")\n",
    "from hamiltonian import *\n",
    "from utils import *\n",
    "from qiskit_circuits import *\n",
    "from qite import *"
   ]
  },
  {
   "cell_type": "markdown",
   "metadata": {},
   "source": [
    "## Playing with Pauli and WeightedPauli operators"
   ]
  },
  {
   "cell_type": "code",
   "execution_count": 28,
   "metadata": {},
   "outputs": [
    {
     "name": "stdout",
     "output_type": "stream",
     "text": [
      "{'IX': -7.813951636042159, 'ZX': 3.5273445861715977, 'XI': -3.913118960624632, 'XZ': 3.913118960624632, 'II': 14.3283547225, 'ZI': -8.4216452775, 'IZ': -1.4216452774999997, 'ZZ': -4.9216452775}\n",
      "[-2.14398103  6.07151323 17.75169828 35.63418841]\n"
     ]
    }
   ],
   "source": [
    "## H is always in qiskit order (right to left)\n",
    "## String form is also in that order \n",
    "## State vector results in order [00,01,10,11]\n",
    "from scipy.linalg import eigh\n",
    "n_qubits=2\n",
    "H = DenseEncodingHamiltonian(N_states=2**n_qubits,qiskit_order=False)\n",
    "print(H.pauli_coeffs)\n",
    "# H.matrix\n",
    "exact_eigenvalue,_=eigh(H.matrix)\n",
    "print(exact_eigenvalue)"
   ]
  },
  {
   "cell_type": "code",
   "execution_count": 17,
   "metadata": {},
   "outputs": [
    {
     "name": "stdout",
     "output_type": "stream",
     "text": [
      "key, [paulis in set]\n",
      "XX ['II', 'IX', 'XI', 'XX']\n",
      "XY ['IY', 'XY']\n",
      "XZ ['IZ', 'XZ']\n",
      "YX ['YI', 'YX']\n",
      "YY ['YY']\n",
      "YZ ['YZ']\n",
      "ZX ['ZI', 'ZX']\n",
      "ZY ['ZY']\n",
      "ZZ ['ZZ']\n"
     ]
    }
   ],
   "source": [
    "## vector of WeightedPauliOperators representing vector Sigma -- a list of all pauli terms with odd number of Y gates\n",
    "sigmas=get_sigma_pauli_terms(n_qubits)\n",
    "\n",
    "## b=i[H,sigma]\n",
    "b_pauli_terms=b_terms(H,sigmas)\n",
    "\n",
    "##S_{ij}=2sigma_i.sigma_j\n",
    "S_pauli_terms=S_terms(sigmas)\n",
    "\n",
    "## Set of all pauli terms needed to compute H, b, and S\n",
    "pauli_set=get_intersection_pauli_terms(H,b_pauli_terms,S_pauli_terms)\n",
    "\n",
    "## Organize pauli set into commuting sets of pauli operators \n",
    "commuting_sets=get_commuting_sets(sorted(pauli_set))\n",
    "print(\"key, [paulis in set]\")\n",
    "for p in commuting_sets:\n",
    "    print(p, commuting_sets[p])"
   ]
  },
  {
   "cell_type": "code",
   "execution_count": 85,
   "metadata": {},
   "outputs": [
    {
     "name": "stderr",
     "output_type": "stream",
     "text": [
      "\r",
      "  0%|          | 0/20 [00:00<?, ?it/s]"
     ]
    },
    {
     "name": "stdout",
     "output_type": "stream",
     "text": [
      "[-2.21503787  2.52159867  8.32143272 16.32766303 26.59557563 39.95924445\n",
      " 57.74792829 83.05501397]\n"
     ]
    },
    {
     "name": "stderr",
     "output_type": "stream",
     "text": [
      "100%|██████████| 20/20 [00:08<00:00,  2.40it/s]\n"
     ]
    }
   ],
   "source": [
    "#####################################       \n",
    "# Prepare and run the evolution circuit\n",
    "#####################################       \n",
    "num_iterations=20\n",
    "delta_time=0.01\n",
    "n_qubits=3\n",
    "\n",
    "initialization=\"zeros\"\n",
    "H = DenseEncodingHamiltonian(N_states=2**n_qubits,qiskit_order=False)\n",
    "exact_eigenvalue,_=eigh(H.matrix)\n",
    "print(exact_eigenvalue)\n",
    "\n",
    "backend = 'statevector_simulator'\n",
    "sv_energies,Ccoefs_sv=run_qite_experiment(H,num_iterations,delta_time,backend,initialization,A_threshold=1e-10,cstep=None)\n",
    "\n",
    "# threshold=1e-2\n",
    "# backend = 'qasm_simulator'\n",
    "# qasm_energies,Ccoefs_qasm=run_qite_experiment(H,num_iterations,delta_time,backend,initialization,A_threshold=threshold,cstep=None)\n",
    "\n"
   ]
  },
  {
   "cell_type": "code",
   "execution_count": 86,
   "metadata": {
    "scrolled": false
   },
   "outputs": [
    {
     "data": {
      "text/plain": [
       "<matplotlib.legend.Legend at 0x7fb189aa2a50>"
      ]
     },
     "execution_count": 86,
     "metadata": {},
     "output_type": "execute_result"
    },
    {
     "data": {
      "image/png": "[encoded data removed]",
      "text/plain": [
       "<Figure size 1152x576 with 1 Axes>"
      ]
     },
     "metadata": {},
     "output_type": "display_data"
    }
   ],
   "source": [
    "time=[delta_time*t for t in range(num_iterations)]\n",
    "plt.plot(time,sv_energies,'r--',label=\"SV\")\n",
    "# plt.plot(time,qasm_energies,'b^',label=\"qasm\")\n",
    "plt.hlines(exact_eigenvalue[0], time[0], time[-1], colors='k', linestyles='solid', label='exact',)\n",
    "plt.legend(prop={'size': 20})"
   ]
  },
  {
   "cell_type": "code",
   "execution_count": 87,
   "metadata": {},
   "outputs": [
    {
     "name": "stdout",
     "output_type": "stream",
     "text": [
      "[0.99566257 0.99134396 0.98371098 0.97363315 0.96174749 0.94852753\n",
      " 0.93432968 0.91942514 0.90402231 0.88828271 0.87233242 0.85627053\n",
      " 0.84017528 0.82410872 0.80812016 0.7922489  0.77652621 0.76097694\n",
      " 0.74562079 0.73047324]\n"
     ]
    }
   ],
   "source": [
    "def normalization_coefficients(Ccoef):\n",
    "    ncoefs=np.zeros(len(Ccoef))\n",
    "    ncoefs[0]=1/np.sqrt(Ccoef[0])\n",
    "    for r in range(1,len(Ccoef)):\n",
    "        Cr=Ccoef[r-1]\n",
    "        nr=ncoefs[r-1]\n",
    "        ncoefs[r]=nr/np.sqrt(Cr)\n",
    "    \n",
    "    return ncoefs\n",
    "\n",
    "ncoefs=normalization_coefficients(Ccoefs_sv)\n",
    "print(ncoefs)"
   ]
  },
  {
   "cell_type": "code",
   "execution_count": 108,
   "metadata": {},
   "outputs": [
    {
     "name": "stdout",
     "output_type": "stream",
     "text": [
      "stride 2\n",
      "[4, 6, 8, 10, 12, 14, 16, 18]\n",
      "[-1587.89720593    -2.2150369      2.51354455     8.00706707\n",
      "    15.06518887    23.1107599     30.58428141    34.58007647]\n",
      "QITE:      -2.107838690508591\n",
      "QLanczos:  -1587.897205933859\n",
      "Exact:     -2.2150378722680117\n"
     ]
    }
   ],
   "source": [
    "from scipy.linalg import eig\n",
    "## Construct overlap matrix\n",
    "lanczos_stride=2\n",
    "max_krylov_dim=8\n",
    "\n",
    "print(\"stride\",lanczos_stride)\n",
    "index_list=[]\n",
    "for i in range(0,num_iterations,lanczos_stride):\n",
    "    index_list.append(i)\n",
    "\n",
    "dim=min(len(index_list),max_krylov_dim)\n",
    "\n",
    "index_list=index_list[-dim:]\n",
    "print(index_list)\n",
    "\n",
    "\n",
    "Omatrix=np.asmatrix(np.zeros((dim,dim)))\n",
    "Hmatrix=np.asmatrix(np.zeros((dim,dim)))\n",
    "\n",
    "for i in range(dim):\n",
    "    for j in range(dim):\n",
    "        l=index_list[j]\n",
    "        lp=index_list[i]\n",
    "        k=(l+lp)/2\n",
    "#         print(k)\n",
    "        k=int(k)\n",
    "#         Omatrix[i,j]=(Ccoefs_sv[k]**2)\n",
    "        Omatrix[i,j]=(ncoefs[l]*ncoefs[lp])/(ncoefs[k]**2)\n",
    "\n",
    "\n",
    "# print(\"\")\n",
    "## Construct H matrix \n",
    "for i in range(0,dim):\n",
    "    for j in range(0,dim):\n",
    "        l=index_list[j]\n",
    "        lp=index_list[i]\n",
    "        k=int((l+lp)/2)\n",
    "        Hmatrix[i,j]=Omatrix[i,j]*sv_energies[k]\n",
    "# print(Hmatrix)\n",
    "\n",
    "\n",
    "eigs,_=eigh(Hmatrix,Omatrix)\n",
    "print(eigs)\n",
    "print(\"QITE:     \",sv_energies[-1])\n",
    "print(\"QLanczos: \",eigs.real[0])\n",
    "print(\"Exact:    \",exact_eigenvalue[0])"
   ]
  },
  {
   "cell_type": "code",
   "execution_count": null,
   "metadata": {},
   "outputs": [],
   "source": []
  },
  {
   "cell_type": "code",
   "execution_count": 21,
   "metadata": {},
   "outputs": [],
   "source": []
  }
 ],
 "metadata": {
  "kernelspec": {
   "display_name": "Python 3",
   "language": "python",
   "name": "python3"
  },
  "language_info": {
   "codemirror_mode": {
    "name": "ipython",
    "version": 3
   },
   "file_extension": ".py",
   "mimetype": "text/x-python",
   "name": "python",
   "nbconvert_exporter": "python",
   "pygments_lexer": "ipython3",
   "version": "3.7.5"
  }
 },
 "nbformat": 4,
 "nbformat_minor": 4
}
