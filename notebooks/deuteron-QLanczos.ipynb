{
 "cells": [
  {
   "cell_type": "markdown",
   "metadata": {},
   "source": [
    "# QLanczos"
   ]
  },
  {
   "cell_type": "code",
   "execution_count": 1,
   "metadata": {},
   "outputs": [],
   "source": [
    "import numpy as np\n",
    "np.warnings.filterwarnings('ignore')\n",
    "\n",
    "import pickle\n",
    "\n",
    "from scipy.linalg import expm\n",
    "from scipy.linalg import eigh\n",
    "from scipy.linalg import eig\n",
    "# import scipy\n",
    "from pprint import pprint\n",
    "from tqdm import tqdm\n",
    "\n",
    "from scipy.linalg import lstsq\n",
    "# import scipy as sp\n",
    "\n",
    "# Everything we need from Qiskit\n",
    "from qiskit import ClassicalRegister, QuantumRegister, QuantumCircuit\n",
    "from qiskit import execute, Aer\n",
    "from qiskit.quantum_info import Pauli\n",
    "\n",
    "from qiskit.aqua.operators import WeightedPauliOperator\n",
    "from qiskit.aqua.components.initial_states import Custom\n",
    "\n",
    "import qutip as qt\n",
    "from tqdm import tqdm\n",
    "\n",
    "import matplotlib.pyplot as plt\n",
    "import seaborn as sns\n",
    "sns.set_style('whitegrid')\n",
    "sns.set(rc={'figure.figsize':(16,8)})\n",
    "sns.set()\n",
    "\n",
    "import itertools\n",
    "\n",
    "import sys\n",
    "sys.path.append(\"../src/\")\n",
    "from hamiltonian import *\n",
    "from utils import *\n",
    "from qiskit_circuits import *\n",
    "from qite import *"
   ]
  },
  {
   "cell_type": "markdown",
   "metadata": {},
   "source": [
    "Calculate normalization coefficients using recurrence in "
   ]
  },
  {
   "cell_type": "code",
   "execution_count": 2,
   "metadata": {},
   "outputs": [],
   "source": [
    "def normalization_coefficient(ncoefs,Ccoefs,r):\n",
    "    \"\"\"\n",
    "    Compute the rth normalization coefficient via recurrence\n",
    "    \"\"\"\n",
    "    nr=ncoefs[r-1]\n",
    "    Cr=Ccoefs[r-1]\n",
    "    return nr/np.sqrt(Cr)\n",
    "\n",
    "def normalization_coefficients(Ccoef):\n",
    "    \"\"\"\n",
    "    Compute normalization coefficients from overlaps \n",
    "    \"\"\"\n",
    "    ncoefs=np.zeros(len(Ccoef))\n",
    "    ncoefs[0]=1/np.sqrt(Ccoef[0])\n",
    "    for r in range(1,len(Ccoef)):\n",
    "        ncoefs[r]=normalization_coefficient(ncoefs,Ccoef,r)\n",
    "    \n",
    "    return ncoefs\n"
   ]
  },
  {
   "cell_type": "markdown",
   "metadata": {},
   "source": [
    "QLanczos "
   ]
  },
  {
   "cell_type": "code",
   "execution_count": 3,
   "metadata": {},
   "outputs": [],
   "source": [
    "def Krylov_matrices(krylov_indices,ncoefs,energies,threshold=1e-2):\n",
    "    dim=len(krylov_indices)\n",
    "    \n",
    "    ## Construct overlap matrix\n",
    "    T=np.zeros((dim,dim))\n",
    "    for i in range(dim):\n",
    "        for j in range(dim):\n",
    "            l=krylov_indices[j]\n",
    "            lp=krylov_indices[i]\n",
    "            k=int((l+lp)/2)\n",
    "            T[i,j]=(ncoefs[l]*ncoefs[lp])/(ncoefs[k]**2)\n",
    "\n",
    "    ## Elimiate small eigenvalues form overlap matrix\n",
    "    eigs,evecs=eig(T)\n",
    "    D=np.zeros((dim,dim))\n",
    "    for i in range(dim):\n",
    "        if abs(eigs[i].real)>threshold:\n",
    "            D[i,i]=eigs[i]\n",
    "            \n",
    "    T=np.dot(evecs.transpose(),np.dot(D,evecs))  \n",
    "            \n",
    "    ## Construct H matrix \n",
    "    H=np.zeros((dim,dim))\n",
    "    for i in range(0,dim):\n",
    "        for j in range(0,dim):\n",
    "            l=krylov_indices[j]\n",
    "            lp=krylov_indices[i]\n",
    "            k=int((l+lp)/2)\n",
    "            H[i,j]=T[i,j]*energies[k]\n",
    "            \n",
    "    return T,H\n",
    "\n",
    "\n",
    "\n",
    "def run_qlanczos_experiment(H,krylov_dim,delta_time,backend,initialization,max_iterations=100,krylov_threshold=.99999,A_threshold=1e-10,cstep=None):\n",
    "    \"\"\"\n",
    "    Run qite evolution to get energies of ground state \n",
    "    \"\"\"\n",
    "\n",
    "    n_qubits=H.N_qubits\n",
    "    n_shots=10000 ## Set to allowed number of shots at IBMQ\n",
    "\n",
    "    ## Get list of sigmas (all pauli terms with odd number Y gates)\n",
    "    sigmas=sigma_terms(n_qubits)\n",
    "\n",
    "    ## Construct b in terms of paulis \n",
    "    b_pauli_terms=b_terms(H,sigmas)\n",
    "    \n",
    "    ## Construct S in terms of paulis\n",
    "    S_pauli_terms=S_terms(sigmas)\n",
    "\n",
    "    ## Get composite set of pauli terms that need to be calculated for QITE \n",
    "    pauli_set=get_intersection_pauli_terms(H,b_pauli_terms,S_pauli_terms)\n",
    "\n",
    "    ## Get commuting set \n",
    "    commuting_sets=get_commuting_sets(sorted(pauli_set))\n",
    "    \n",
    "    ## Zero initialize \n",
    "    A_set=[]\n",
    "    a=np.zeros(len(sigmas))\n",
    "    Energies=[]\n",
    "    Ccoefs=[]\n",
    "    ncoefs=[]\n",
    "    \n",
    "    ## for each time step, run circuit and compute A for the next time step\n",
    "    krylov_indices=[0]\n",
    "    t=0\n",
    "    while len(krylov_indices)<krylov_dim:\n",
    "        if t>max_iterations:\n",
    "            break\n",
    "        expectation_values={}\n",
    "        if backend=='statevector_simulator':\n",
    "            ## Run circuit to get state vector\n",
    "            psi=run_circuit_statevector(n_qubits,A_set,delta_time,initialization=None)\n",
    "\n",
    "            ## Compute expectation value for each pauli term \n",
    "            for pauli_id in commuting_sets:        \n",
    "                for pauli in commuting_sets[pauli_id]: \n",
    "                    pauli_mat = get_pauli_matrix(pauli)\n",
    "                    e_value=np.conj(psi).T @ pauli_mat @ psi\n",
    "                    expectation_values[pauli]=e_value\n",
    "\n",
    "        else:\n",
    "            for pauli_id in commuting_sets:   \n",
    "                ## Run circuit to get counts \n",
    "                meas_results=run_circuit_qasm(n_qubits,A_set,pauli_id,delta_time,n_shots=n_shots,initialization=None)\n",
    "\n",
    "                ## Compute expectation value for each pauli term \n",
    "                for pauli in commuting_sets[pauli_id]: \n",
    "                    expectation_values[pauli]=compute_expectation_value(pauli,meas_results)    \n",
    "\n",
    "\n",
    "        ## Compute energy\n",
    "        H_pauli=H.pauli_coeffs\n",
    "        energy=0.0\n",
    "        for key in H_pauli:\n",
    "            energy+=H_pauli[key]*expectation_values[key]\n",
    "\n",
    "        Energies.append(energy.real)\n",
    "\n",
    "        ## compute normalization coef C=1-2*E*delta_times\n",
    "        Ccoef=1-2*delta_time*Energies[t]\n",
    "        Ccoefs.append(Ccoef)\n",
    "        \n",
    "        ## Compute A\n",
    "        A_set.append(A_pauli_operator(delta_time,sigmas,S_pauli_terms,b_pauli_terms,expectation_values,Ccoef,A_threshold))\n",
    "\n",
    "        if isinstance(cstep,int):\n",
    "            if t%cstep==0:\n",
    "                identity_string=\"I\"*n_qubits\n",
    "                A_combine=WeightedPauliOperator([(0.0,Pauli.from_label(identity_string))])\n",
    "                for A in A_set:\n",
    "                    A_combine+=A\n",
    "                A_set=[A_combine]\n",
    "         \n",
    "        ### Compute normalization factor \n",
    "        if t==0:\n",
    "            ncoefs.append(1.0)\n",
    "        else:\n",
    "            ncoefs.append(normalization_coefficient(ncoefs,Ccoefs,t))\n",
    "            \n",
    "            ## If even time step, check overlap\n",
    "            if t%2==0:        \n",
    "                i=t\n",
    "                j=krylov_indices[-1]\n",
    "                k=int((i+j)/2)\n",
    "                regularization_factor=(ncoefs[i]*ncoefs[j])/(ncoefs[k]**2)\n",
    "                if regularization_factor<krylov_threshold:\n",
    "                    krylov_indices.append(i)\n",
    "        \n",
    "        ### increment t\n",
    "        t+=1    \n",
    "\n",
    "    ## Construct krylove matries \n",
    "    T_krylov,H_krylov=Krylov_matrices(krylov_indices,ncoefs,Energies,threshold=1e-1)\n",
    "\n",
    "    ## Solve generalized eigenproblem\n",
    "    eigs,vecs=eig(H_krylov,T_krylov)\n",
    "    idx = eigs.argsort()[0]\n",
    "    print(idx)\n",
    "    print(f\"Iterations: {t-1}\")\n",
    "    print(f\"Krylov dim: {len(krylov_indices)}\")\n",
    "    return eigs[idx].real\n",
    "\n"
   ]
  },
  {
   "cell_type": "code",
   "execution_count": 11,
   "metadata": {},
   "outputs": [
    {
     "name": "stdout",
     "output_type": "stream",
     "text": [
      "N qubits: 2\n",
      "0\n",
      "Iterations: 20\n",
      "Krylov dim: 7\n"
     ]
    }
   ],
   "source": [
    "Nmax=6\n",
    "H = hamiltonian_matrix(Nmax,hw=7.0,J=1,interaction_filename=\"toy_hamiltonian\") \n",
    "exact_eigenvalue,_=eigh(H)\n",
    "\n",
    "H_qubit = GrayCodeHamiltonian(H)\n",
    "n_qubits=H_qubit.N_qubits\n",
    "print(f\"N qubits: {n_qubits}\")\n",
    "\n",
    "initialization=\"single_state\"\n",
    "backend = 'statevector_simulator'\n",
    "\n",
    "# krylov_dim=8\n",
    "# kthreshold=.998\n",
    "\n",
    "krylov_dim=7\n",
    "kthreshold=.999\n",
    "\n",
    "max_itr=100\n",
    "delta_time=0.01\n",
    "QL_energy=run_qlanczos_experiment(H_qubit,krylov_dim,delta_time,backend,initialization,max_iterations=max_itr,krylov_threshold=kthreshold,A_threshold=1e-10,cstep=1)\n",
    "# print(QL_energies)"
   ]
  },
  {
   "cell_type": "code",
   "execution_count": 12,
   "metadata": {},
   "outputs": [
    {
     "name": "stderr",
     "output_type": "stream",
     "text": [
      "100%|██████████| 20/20 [00:00<00:00, 80.27it/s]"
     ]
    },
    {
     "name": "stdout",
     "output_type": "stream",
     "text": [
      "Exact eigenvalue: -2.14398\n",
      "Qite eigenvalue: -2.08738\n",
      "QLancozs eigenvalue: -2.14395\n"
     ]
    },
    {
     "name": "stderr",
     "output_type": "stream",
     "text": [
      "\n"
     ]
    }
   ],
   "source": [
    "num_iterations=20\n",
    "Qite_energies,_=run_qite_experiment(H_qubit,num_iterations,delta_time,backend,initialization,A_threshold=1e-10,cstep=1)\n",
    "print(f\"Exact eigenvalue: {exact_eigenvalue[0]:0.6}\")\n",
    "print(f\"Qite eigenvalue: {Qite_energies[-1]:0.6}\")\n",
    "print(f\"QLancozs eigenvalue: {QL_energy:0.6}\")"
   ]
  },
  {
   "cell_type": "code",
   "execution_count": 7,
   "metadata": {},
   "outputs": [
    {
     "name": "stdout",
     "output_type": "stream",
     "text": [
      "N qubits: 2\n",
      "1\n",
      "Iterations: 32\n",
      "Krylov dim: 7\n",
      "-2.16397450281398\n"
     ]
    }
   ],
   "source": [
    "Nmax=6\n",
    "H = hamiltonian_matrix(Nmax,hw=7.0,J=1,interaction_filename=\"toy_hamiltonian\") \n",
    "exact_eigenvalue,_=eigh(H)\n",
    "\n",
    "H_qubit = GrayCodeHamiltonian(H)\n",
    "n_qubits=H_qubit.N_qubits\n",
    "print(f\"N qubits: {n_qubits}\")\n",
    "\n",
    "initialization=\"zeros\"\n",
    "backend = 'qasm_simulator'\n",
    "\n",
    "# krylov_dim=8\n",
    "# kthreshold=.998\n",
    "\n",
    "krylov_dim=7\n",
    "kthreshold=.998\n",
    "\n",
    "max_itr=100\n",
    "delta_time=0.01\n",
    "QL_energy=run_qlanczos_experiment(H_qubit,krylov_dim,delta_time,backend,initialization,max_iterations=max_itr,krylov_threshold=kthreshold,A_threshold=1e-2,cstep=1)\n",
    "print(QL_energy)"
   ]
  },
  {
   "cell_type": "code",
   "execution_count": 9,
   "metadata": {},
   "outputs": [
    {
     "name": "stderr",
     "output_type": "stream",
     "text": [
      "100%|██████████| 32/32 [00:08<00:00,  3.98it/s]"
     ]
    },
    {
     "name": "stdout",
     "output_type": "stream",
     "text": [
      "Exact eigenvalue: -2.14398\n",
      "Qite eigenvalue: -2.12236\n",
      "QLancozs eigenvalue: -2.16397\n"
     ]
    },
    {
     "name": "stderr",
     "output_type": "stream",
     "text": [
      "\n"
     ]
    }
   ],
   "source": [
    "num_iterations=32\n",
    "Qite_energies,_=run_qite_experiment(H_qubit,num_iterations,delta_time,backend,initialization,A_threshold=1e-2,cstep=1)\n",
    "print(f\"Exact eigenvalue: {exact_eigenvalue[0]:0.6}\")\n",
    "print(f\"Qite eigenvalue: {Qite_energies[-1]:0.6}\")\n",
    "print(f\"QLancozs eigenvalue: {QL_energy:0.6}\")"
   ]
  },
  {
   "cell_type": "code",
   "execution_count": 10,
   "metadata": {},
   "outputs": [
    {
     "data": {
      "text/plain": [
       "<matplotlib.legend.Legend at 0x1512cc390>"
      ]
     },
     "execution_count": 10,
     "metadata": {},
     "output_type": "execute_result"
    },
    {
     "data": {
      "image/png": "[encoded data removed]",
      "text/plain": [
       "<Figure size 1152x576 with 1 Axes>"
      ]
     },
     "metadata": {},
     "output_type": "display_data"
    }
   ],
   "source": [
    "time=[t for t in range(num_iterations)]\n",
    "plt.plot(time,Qite_energies,'b^',label=\"dt=0.01\")\n",
    "plt.legend(prop={'size': 20})"
   ]
  },
  {
   "cell_type": "code",
   "execution_count": null,
   "metadata": {},
   "outputs": [],
   "source": []
  }
 ],
 "metadata": {
  "kernelspec": {
   "display_name": "Python 3",
   "language": "python",
   "name": "python3"
  },
  "language_info": {
   "codemirror_mode": {
    "name": "ipython",
    "version": 3
   },
   "file_extension": ".py",
   "mimetype": "text/x-python",
   "name": "python",
   "nbconvert_exporter": "python",
   "pygments_lexer": "ipython3",
   "version": "3.7.5"
  }
 },
 "nbformat": 4,
 "nbformat_minor": 4
}
