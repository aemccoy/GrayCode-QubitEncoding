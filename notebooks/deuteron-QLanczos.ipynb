{
 "cells": [
  {
   "cell_type": "markdown",
   "metadata": {},
   "source": [
    "# QLanczos"
   ]
  },
  {
   "cell_type": "code",
   "execution_count": 1,
   "metadata": {},
   "outputs": [],
   "source": [
    "import numpy as np\n",
    "np.warnings.filterwarnings('ignore')\n",
    "\n",
    "import pickle\n",
    "\n",
    "from scipy.linalg import expm\n",
    "from scipy.linalg import eigh\n",
    "from scipy.linalg import eig\n",
    "# import scipy\n",
    "from pprint import pprint\n",
    "from tqdm import tqdm\n",
    "\n",
    "from scipy.linalg import lstsq\n",
    "# import scipy as sp\n",
    "\n",
    "# Everything we need from Qiskit\n",
    "from qiskit import ClassicalRegister, QuantumRegister, QuantumCircuit\n",
    "from qiskit import execute, Aer\n",
    "from qiskit.quantum_info import Pauli\n",
    "\n",
    "from qiskit.aqua.operators import WeightedPauliOperator\n",
    "from qiskit.aqua.components.initial_states import Custom\n",
    "\n",
    "import qutip as qt\n",
    "from tqdm import tqdm\n",
    "\n",
    "import matplotlib.pyplot as plt\n",
    "import seaborn as sns\n",
    "sns.set_style('whitegrid')\n",
    "sns.set(rc={'figure.figsize':(16,8)})\n",
    "sns.set()\n",
    "\n",
    "import itertools\n",
    "\n",
    "import sys\n",
    "sys.path.append(\"../src/\")\n",
    "from hamiltonian import *\n",
    "from utils import *\n",
    "from qiskit_circuits import *\n",
    "from qite import *"
   ]
  },
  {
   "cell_type": "markdown",
   "metadata": {},
   "source": [
    "Calculate normalization coefficients using recurrence in "
   ]
  },
  {
   "cell_type": "code",
   "execution_count": 54,
   "metadata": {},
   "outputs": [],
   "source": [
    "def normalization_coefficient(ncoefs,Ccoefs,r):\n",
    "    \"\"\"\n",
    "    Compute the rth normalization coefficient via recurrence\n",
    "    \"\"\"\n",
    "    nr=ncoefs[r-1]\n",
    "    Cr=Ccoefs[r-1]\n",
    "    return nr/np.sqrt(Cr)\n",
    "\n",
    "def normalization_coefficients(Ccoef):\n",
    "    \"\"\"\n",
    "    Compute normalization coefficients from overlaps \n",
    "    \"\"\"\n",
    "    ncoefs=np.zeros(len(Ccoef))\n",
    "    ncoefs[0]=1/np.sqrt(Ccoef[0])\n",
    "    for r in range(1,len(Ccoef)):\n",
    "        ncoefs[r]=normalization_coefficient(ncoefs,Ccoef,r)\n",
    "    \n",
    "    return ncoefs\n"
   ]
  },
  {
   "cell_type": "markdown",
   "metadata": {},
   "source": [
    "QLanczos "
   ]
  },
  {
   "cell_type": "code",
   "execution_count": 3,
   "metadata": {},
   "outputs": [],
   "source": [
    "def Krylov_matrices(krylov_indices,ncoefs,energies,threshold=1e-2):\n",
    "    dim=len(krylov_indices)\n",
    "    \n",
    "    ## Construct overlap matrix\n",
    "    T=np.zeros((dim,dim))\n",
    "    for i in range(dim):\n",
    "        for j in range(dim):\n",
    "            l=krylov_indices[j]\n",
    "            lp=krylov_indices[i]\n",
    "            k=int((l+lp)/2)\n",
    "            T[i,j]=(ncoefs[l]*ncoefs[lp])/(ncoefs[k]**2)\n",
    "\n",
    "    ## Elimiate small eigenvalues form overlap matrix\n",
    "    eigs,evecs=eig(T)\n",
    "#     print(eigs)\n",
    "    D=np.zeros((dim,dim))\n",
    "    for i in range(dim):\n",
    "        if abs(eigs[i].real)>threshold:\n",
    "            D[i,i]=eigs[i]\n",
    "    \n",
    "    T=np.dot(evecs.transpose(),np.dot(D,evecs))  \n",
    "            \n",
    "    ## Construct H matrix \n",
    "    H=np.zeros((dim,dim))\n",
    "    for i in range(0,dim):\n",
    "        for j in range(0,dim):\n",
    "            l=krylov_indices[j]\n",
    "            lp=krylov_indices[i]\n",
    "            k=int((l+lp)/2)\n",
    "            H[i,j]=T[i,j]*energies[k]\n",
    "            \n",
    "    return T,H\n",
    "\n",
    "\n",
    "\n",
    "def run_qlanczos_experiment(H,krylov_dim,delta_time,backend,initialization,max_iterations=100,krylov_threshold=.99999,A_threshold=1e-10,cstep=None):\n",
    "    \"\"\"\n",
    "    Run qite evolution to get energies of ground state \n",
    "    \"\"\"\n",
    "\n",
    "    n_qubits=H.N_qubits\n",
    "    n_shots=10000 ## Set to allowed number of shots at IBMQ\n",
    "\n",
    "    ## Get list of sigmas (all pauli terms with odd number Y gates)\n",
    "    sigmas=sigma_terms(n_qubits)\n",
    "\n",
    "    ## Construct b in terms of paulis \n",
    "    b_pauli_terms=b_terms(H,sigmas)\n",
    "    \n",
    "    ## Construct S in terms of paulis\n",
    "    S_pauli_terms=S_terms(sigmas)\n",
    "\n",
    "    ## Get composite set of pauli terms that need to be calculated for QITE \n",
    "    pauli_set=get_intersection_pauli_terms(H,b_pauli_terms,S_pauli_terms)\n",
    "\n",
    "    ## Get commuting set \n",
    "    commuting_sets=get_commuting_sets(sorted(pauli_set))\n",
    "    \n",
    "    ## Zero initialize \n",
    "    A_set=[]\n",
    "    a=np.zeros(len(sigmas))\n",
    "    Energies=[]\n",
    "    Ccoefs=[]\n",
    "    ncoefs=[]\n",
    "    \n",
    "    ## for each time step, run circuit and compute A for the next time step\n",
    "    krylov_indices=[0]\n",
    "    t=0\n",
    "    while len(krylov_indices)<krylov_dim:\n",
    "        if t>max_iterations:\n",
    "            break\n",
    "        expectation_values={}\n",
    "        if backend=='statevector_simulator':\n",
    "            ## Run circuit to get state vector\n",
    "            psi=run_circuit_statevector(n_qubits,A_set,delta_time,initialization=None)\n",
    "\n",
    "            ## Compute expectation value for each pauli term \n",
    "            for pauli_id in commuting_sets:        \n",
    "                for pauli in commuting_sets[pauli_id]: \n",
    "                    pauli_mat = get_pauli_matrix(pauli)\n",
    "                    e_value=np.conj(psi).T @ pauli_mat @ psi\n",
    "                    expectation_values[pauli]=e_value\n",
    "\n",
    "        else:\n",
    "            for pauli_id in commuting_sets:   \n",
    "                ## Run circuit to get counts \n",
    "                meas_results=run_circuit_qasm(n_qubits,A_set,pauli_id,delta_time,n_shots=n_shots,initialization=None)\n",
    "\n",
    "                ## Compute expectation value for each pauli term \n",
    "                for pauli in commuting_sets[pauli_id]: \n",
    "                    expectation_values[pauli]=compute_expectation_value(pauli,meas_results)    \n",
    "\n",
    "\n",
    "        ## Compute energy\n",
    "        H_pauli=H.pauli_coeffs\n",
    "        energy=0.0\n",
    "        for key in H_pauli:\n",
    "            energy+=H_pauli[key]*expectation_values[key]\n",
    "\n",
    "        Energies.append(energy.real)\n",
    "\n",
    "        ## compute normalization coef C=1-2*E*delta_times\n",
    "        Ccoef=1-2*delta_time*Energies[t]\n",
    "        Ccoefs.append(Ccoef)\n",
    "        \n",
    "        ## Compute A\n",
    "        A_set.append(A_pauli_operator(delta_time,sigmas,S_pauli_terms,b_pauli_terms,expectation_values,Ccoef,A_threshold))\n",
    "\n",
    "        if isinstance(cstep,int):\n",
    "            if t%cstep==0:\n",
    "                identity_string=\"I\"*n_qubits\n",
    "                A_combine=WeightedPauliOperator([(0.0,Pauli.from_label(identity_string))])\n",
    "                for A in A_set:\n",
    "                    A_combine+=A\n",
    "                A_set=[A_combine]\n",
    "         \n",
    "        ### Compute normalization factor \n",
    "        if t==0:\n",
    "            ncoefs.append(1.0)\n",
    "        else:\n",
    "            ncoefs.append(normalization_coefficient(ncoefs,Ccoefs,t))\n",
    "            \n",
    "            ## If even time step, check overlap\n",
    "            if t%2==0:        \n",
    "                i=t\n",
    "                j=krylov_indices[-1]\n",
    "                k=int((i+j)/2)\n",
    "                regularization_factor=(ncoefs[i]*ncoefs[j])/(ncoefs[k]**2)\n",
    "                if regularization_factor<krylov_threshold:\n",
    "                    krylov_indices.append(i)\n",
    "        \n",
    "        ### increment t\n",
    "        t+=1    \n",
    "\n",
    "    ## Construct krylove matries \n",
    "    T_krylov,H_krylov=Krylov_matrices(krylov_indices,ncoefs,Energies,threshold=.5)\n",
    "\n",
    "    ## Solve generalized eigenproblem\n",
    "    eigs,vecs=eig(H_krylov,T_krylov)\n",
    "#     print(eigs.real)\n",
    "    idx = eigs.argsort()[0]\n",
    "#     print(idx)\n",
    "#     print(f\"Iterations: {t-1}\")\n",
    "#     print(f\"Krylov dim: {len(krylov_indices)}\")\n",
    "    return eigs[idx].real\n",
    "\n",
    "\n",
    "def eliminate_outliers(energies):\n",
    "    mean=np.mean(energies)\n",
    "    sd=np.std(energies)\n",
    "    survivors=[]\n",
    "    for e in energies:\n",
    "        if abs(e)<=(abs(mean)+2*sd):\n",
    "            survivors.append(e)\n",
    "        else:\n",
    "            print(f\"{e:.5f} killed\")\n",
    "    return survivors\n",
    "\n",
    "def remove_outliers(energies):\n",
    "    e_len=len(energies)\n",
    "    diff=9999\n",
    "    while diff>0:\n",
    "        energies=eliminate_outliers(energies)\n",
    "        diff=e_len-len(energies)\n",
    "        e_len=len(energies)\n",
    "    return energies"
   ]
  },
  {
   "cell_type": "code",
   "execution_count": 6,
   "metadata": {},
   "outputs": [
    {
     "name": "stdout",
     "output_type": "stream",
     "text": [
      "N qubits: 2\n",
      "-2.14394555640053\n"
     ]
    }
   ],
   "source": [
    "H = hamiltonian_matrix(Nmax=6,J=1,interaction=\"toy\")\n",
    "exact_eigenvalue,_=eigh(H)\n",
    "\n",
    "H_qubit = GrayCodeHamiltonian(H)\n",
    "n_qubits=H_qubit.N_qubits\n",
    "print(f\"N qubits: {n_qubits}\")\n",
    "\n",
    "initialization=\"single_state\"\n",
    "backend = 'statevector_simulator'\n",
    "\n",
    "# krylov_dim=8\n",
    "# kthreshold=.998\n",
    "\n",
    "krylov_dim=7\n",
    "kthreshold=.999\n",
    "\n",
    "max_itr=100\n",
    "delta_time=0.01\n",
    "QL_energy=run_qlanczos_experiment(H_qubit,krylov_dim,delta_time,backend,initialization,max_iterations=max_itr,krylov_threshold=kthreshold,A_threshold=1e-10,cstep=1)\n",
    "print(QL_energy)"
   ]
  },
  {
   "cell_type": "code",
   "execution_count": 7,
   "metadata": {},
   "outputs": [
    {
     "name": "stderr",
     "output_type": "stream",
     "text": [
      "100%|██████████| 20/20 [00:00<00:00, 69.22it/s]"
     ]
    },
    {
     "name": "stdout",
     "output_type": "stream",
     "text": [
      "Exact eigenvalue: -2.14398\n",
      "Qite eigenvalue: -2.08738\n",
      "QLancozs eigenvalue: -2.14395\n"
     ]
    },
    {
     "name": "stderr",
     "output_type": "stream",
     "text": [
      "\n"
     ]
    }
   ],
   "source": [
    "time_steps=20\n",
    "Qite_energies=qite_experiment(H_qubit,time_steps,delta_time,backend,initialization,A_threshold=1e-10,cstep=1)\n",
    "print(f\"Exact eigenvalue: {exact_eigenvalue[0]:0.6}\")\n",
    "print(f\"Qite eigenvalue: {Qite_energies[-1]:0.6}\")\n",
    "print(f\"QLancozs eigenvalue: {QL_energy:0.6}\")"
   ]
  },
  {
   "cell_type": "code",
   "execution_count": 44,
   "metadata": {},
   "outputs": [
    {
     "name": "stderr",
     "output_type": "stream",
     "text": [
      "\r",
      "  0%|          | 0/20 [00:00<?, ?it/s]"
     ]
    },
    {
     "name": "stdout",
     "output_type": "stream",
     "text": [
      "N qubits: 2\n"
     ]
    },
    {
     "name": "stderr",
     "output_type": "stream",
     "text": [
      "100%|██████████| 20/20 [00:05<00:00,  3.96it/s]\n",
      "100%|██████████| 20/20 [00:05<00:00,  3.96it/s]\n",
      "100%|██████████| 20/20 [00:05<00:00,  3.92it/s]\n",
      "100%|██████████| 20/20 [00:05<00:00,  3.94it/s]\n",
      "100%|██████████| 20/20 [00:05<00:00,  3.97it/s]\n",
      "100%|██████████| 20/20 [00:05<00:00,  3.90it/s]\n",
      "100%|██████████| 20/20 [00:05<00:00,  3.92it/s]\n",
      "100%|██████████| 20/20 [00:05<00:00,  3.92it/s]\n",
      "100%|██████████| 20/20 [00:05<00:00,  3.96it/s]\n",
      "100%|██████████| 20/20 [00:06<00:00,  3.26it/s]\n",
      "100%|██████████| 20/20 [00:05<00:00,  3.95it/s]\n",
      "100%|██████████| 20/20 [00:05<00:00,  3.96it/s]\n",
      "100%|██████████| 20/20 [00:05<00:00,  3.96it/s]\n",
      "100%|██████████| 20/20 [00:05<00:00,  3.96it/s]\n",
      "100%|██████████| 20/20 [00:05<00:00,  3.87it/s]\n",
      "100%|██████████| 20/20 [00:05<00:00,  3.88it/s]\n",
      "100%|██████████| 20/20 [00:05<00:00,  3.85it/s]\n",
      "100%|██████████| 20/20 [00:05<00:00,  3.91it/s]\n",
      "100%|██████████| 20/20 [00:05<00:00,  3.94it/s]\n",
      "100%|██████████| 20/20 [00:05<00:00,  3.95it/s]\n"
     ]
    },
    {
     "name": "stdout",
     "output_type": "stream",
     "text": [
      "[array([-0.37528284, -0.65203416, -0.95389027, -1.32938764, -1.43591082,\n",
      "       -1.41211458, -1.58618952, -1.66279109, -1.64976407, -1.90812008,\n",
      "       -1.97010343, -2.01202072, -2.04132378, -1.92311818, -2.18142546,\n",
      "       -1.95926378, -2.06862057, -1.89082976, -2.05505438, -2.0071309 ]), array([-0.34413741, -0.78213658, -1.02901759, -1.33602399, -1.50775952,\n",
      "       -1.63601287, -1.57612956, -1.79435922, -1.753751  , -1.75525571,\n",
      "       -1.76592296, -1.9268367 , -2.02301282, -1.86070935, -2.04063082,\n",
      "       -1.97083392, -2.04611208, -1.99662736, -2.23109103, -2.00225513]), array([-0.49382824, -0.96917223, -0.83929047, -1.35024895, -1.38212765,\n",
      "       -1.5585988 , -1.54927708, -1.64629618, -1.85084942, -1.91024057,\n",
      "       -1.64734119, -2.0458437 , -2.0049062 , -1.87287724, -1.88380612,\n",
      "       -2.06890383, -1.93311507, -1.89974809, -2.04298376, -1.9964375 ]), array([-0.38036735, -0.69348678, -1.07236328, -1.22311229, -1.44299026,\n",
      "       -1.2871257 , -1.81855122, -1.58699201, -1.91054967, -1.77244662,\n",
      "       -1.70677411, -1.87801783, -2.00391202, -2.23400918, -2.03159695,\n",
      "       -1.92797988, -1.94412856, -2.22948037, -2.01079624, -2.10371521]), array([-0.48889926, -0.58707697, -1.00104382, -1.38955681, -1.31189572,\n",
      "       -1.49977638, -1.52564105, -1.61286823, -1.81968672, -1.81370036,\n",
      "       -1.77778685, -1.84586676, -2.06271866, -1.96509677, -2.24373425,\n",
      "       -2.07050561, -2.01254541, -2.0112647 , -2.06606935, -2.13995252]), array([-0.35895586, -0.92100843, -1.0728008 , -1.06566553, -1.3920936 ,\n",
      "       -1.59115663, -1.68699478, -1.76705769, -1.84147449, -1.86615153,\n",
      "       -1.79519181, -1.87830789, -1.94787974, -2.11879853, -2.25326772,\n",
      "       -2.12083325, -2.12636632, -2.0718199 , -2.0183802 , -2.07864213]), array([-0.49998626, -0.68931579, -1.09088751, -1.30262645, -1.37106471,\n",
      "       -1.64131428, -1.53560885, -1.72484324, -1.70544068, -1.77878754,\n",
      "       -1.63752614, -1.81551722, -1.83875811, -2.01049909, -1.95177269,\n",
      "       -1.86765464, -2.00833816, -2.1238196 , -2.08594073, -2.02169237]), array([-0.26386516, -0.84538909, -0.99342054, -1.27693334, -1.38474453,\n",
      "       -1.66568886, -1.48723569, -1.72010535, -1.88482724, -1.89706391,\n",
      "       -1.85515191, -1.79695307, -2.15911422, -2.03107097, -2.19027305,\n",
      "       -2.05976072, -1.91328783, -2.12762958, -2.14757512, -2.24457677]), array([-0.49987686, -0.90242011, -1.27779115, -1.16876693, -1.32411871,\n",
      "       -1.54655328, -1.73923286, -1.73056132, -1.95622869, -1.80903721,\n",
      "       -1.86014608, -1.82327337, -1.91875342, -2.00636606, -1.82931139,\n",
      "       -1.97943114, -2.13497531, -2.10710719, -2.13284482, -1.9465721 ]), array([-0.64018311, -0.67394301, -0.99807734, -1.18085745, -1.56202593,\n",
      "       -1.54894683, -1.54188294, -1.61381311, -1.75426731, -2.07697321,\n",
      "       -1.91839969, -1.76169553, -1.9260526 , -1.98125045, -1.89364113,\n",
      "       -2.08927815, -1.96965581, -1.97502105, -2.08473277, -2.09687083]), array([-0.51989377, -0.5866358 , -1.20712203, -1.20172319, -1.3026342 ,\n",
      "       -1.61865764, -1.54923424, -1.58788755, -1.65843597, -1.90766718,\n",
      "       -2.0671487 , -1.88193516, -1.90515228, -2.04797294, -2.04714543,\n",
      "       -1.97808419, -1.95661747, -1.97824817, -2.22266038, -2.28023202]), array([-0.53031262, -0.90165807, -1.01253012, -1.30600558, -1.38272508,\n",
      "       -1.60320012, -1.52269966, -1.6007479 , -1.676717  , -1.68282115,\n",
      "       -1.82355883, -1.99816667, -1.8345427 , -2.0221584 , -1.95636874,\n",
      "       -2.04912043, -1.99350547, -1.95043899, -1.92993426, -2.15105587]), array([-0.44930015, -0.75337819, -1.00484242, -1.27065744, -1.57001614,\n",
      "       -1.55449098, -1.76817154, -1.79726998, -1.64999556, -1.75749495,\n",
      "       -1.89938456, -1.93445389, -1.78048459, -1.9769441 , -1.90329304,\n",
      "       -2.12402214, -1.81974832, -2.09060586, -1.92213727, -2.02474709]), array([-0.58245143, -0.7039184 , -1.05949845, -1.24230367, -1.61768299,\n",
      "       -1.47215506, -1.632417  , -1.64621842, -1.73792422, -1.896107  ,\n",
      "       -1.85234452, -1.96327936, -1.96344442, -1.83635363, -1.95505169,\n",
      "       -1.98854893, -1.87838076, -2.05813327, -2.03759429, -2.09859608]), array([-0.42487959, -0.81567784, -0.95160881, -1.32376089, -1.58496917,\n",
      "       -1.39974232, -1.63794582, -1.81464845, -1.81224455, -1.68352356,\n",
      "       -1.91105847, -1.77775449, -1.77880939, -1.97691411, -2.09158343,\n",
      "       -1.84443913, -2.0068093 , -1.99874574, -1.93738692, -2.07654614]), array([-0.29847772, -0.73428966, -0.96193788, -1.13897254, -1.50675497,\n",
      "       -1.41100114, -1.61165396, -1.69913596, -1.87450057, -1.59885034,\n",
      "       -2.08005448, -1.90007726, -2.11632138, -1.89228932, -1.98397464,\n",
      "       -2.09210041, -1.96518315, -2.16554384, -2.02890496, -1.99267141]), array([-0.49575927, -0.85012279, -1.08181264, -1.44335627, -1.41135166,\n",
      "       -1.56870711, -1.57363386, -1.75339703, -1.81898981, -1.85440779,\n",
      "       -1.90550911, -1.98274234, -1.74562012, -1.97664928, -2.02428591,\n",
      "       -2.06754523, -2.01727411, -1.98843573, -2.174073  , -1.97274783]), array([-0.37525941, -0.7266714 , -1.23417109, -1.19117961, -1.37546479,\n",
      "       -1.42538731, -1.38343269, -1.63294356, -1.80536605, -1.7421581 ,\n",
      "       -1.95480886, -1.91025723, -1.96766028, -1.94238928, -2.15873127,\n",
      "       -2.24047359, -1.84520414, -1.8055663 , -2.26873146, -1.94080523]), array([-0.3968655 , -0.74862376, -1.16940989, -1.17967978, -1.54944412,\n",
      "       -1.56675031, -1.50294765, -1.58097842, -1.85759414, -1.89653896,\n",
      "       -2.00292562, -1.84304448, -1.86588516, -2.13887675, -1.9903847 ,\n",
      "       -2.00627267, -1.81140055, -1.85401655, -1.96744603, -2.20564372]), array([-0.48855351, -0.79983926, -1.20462658, -1.29532884, -1.40470293,\n",
      "       -1.4100083 , -1.55914687, -1.82993228, -1.80134088, -1.75137574,\n",
      "       -2.01526716, -1.98065854, -1.86168166, -1.94462417, -2.03283767,\n",
      "       -2.02845616, -2.21803454, -1.93910434, -2.13782905, -2.05978494])]\n",
      "[-2.0811078410323143, -2.1296472360085907, -1.7969701666402842, -2.2513185374337374, -3.0428483287653285, -1.867839977192416, -2.1916934240962527, -2.119413774672715, -2.0544096539837153, -2.1232122880306026, -2.151265384364814, -2.727259471300348, -1.8015913709714921, -2.0646366780767247, 7.903678153328987, -2.1461199965061613, -1.9476097338316414, -2.29046352293624, -2.146951232762319, -2.027579512829644]\n"
     ]
    }
   ],
   "source": [
    "Nmax=6\n",
    "H = hamiltonian_matrix(Nmax,J=1,interaction=\"toy\")\n",
    "exact_eigenvalue,_=eigh(H)\n",
    "\n",
    "H_qubit = GrayCodeHamiltonian(H)\n",
    "n_qubits=H_qubit.N_qubits\n",
    "print(f\"N qubits: {n_qubits}\")\n",
    "\n",
    "initialization=\"zeros\"\n",
    "backend = 'qasm_simulator'\n",
    "\n",
    "# krylov_dim=8\n",
    "# kthreshold=.998\n",
    "\n",
    "max_itr=20\n",
    "krylov_dim=20\n",
    "kthreshold=.99999\n",
    "\n",
    "\n",
    "delta_time=0.01\n",
    "qlanczos_energies=[]\n",
    "qite_energies=[]\n",
    "for i in range(20):\n",
    "    qite_energies.append(qite_experiment(H_qubit,time_steps,delta_time,backend,initialization,A_threshold=1e-2,cstep=1))\n",
    "    qlanczos_energies.append(run_qlanczos_experiment(H_qubit,krylov_dim,delta_time,backend,initialization,max_iterations=max_itr,krylov_threshold=kthreshold,A_threshold=1e-2,cstep=1))"
   ]
  },
  {
   "cell_type": "code",
   "execution_count": 51,
   "metadata": {},
   "outputs": [
    {
     "name": "stdout",
     "output_type": "stream",
     "text": [
      "-1.6529129989053177 2.210220808389311\n",
      "7.90368 killed\n",
      "-3.04285 killed\n",
      "-2.72726 killed\n",
      "-2.0701076665511566 0.13891846523860582\n"
     ]
    }
   ],
   "source": [
    "qite_averages=np.mean(qite_energies,0)\n",
    "qite_stds=np.std(qite_energies,0)\n",
    "    \n",
    "qite_mean=qite_averages[-1]\n",
    "qite_std=qite_stds[-1]\n",
    "\n",
    "qlanczos_mean=np.mean(qlanczos_energies)\n",
    "qlanczos_std=np.std(qlanczos_energies)\n",
    "print(qlanczos_mean,qlanczos_std)\n",
    "\n",
    "survivors=qlanczos_energies\n",
    "survivors=remove_outliers(survivors)\n",
    "qlanczos_mean=np.mean(survivors)\n",
    "qlanczos_std=np.std(survivors)\n",
    "print(qlanczos_mean,qlanczos_std)\n"
   ]
  },
  {
   "cell_type": "code",
   "execution_count": 49,
   "metadata": {},
   "outputs": [
    {
     "name": "stdout",
     "output_type": "stream",
     "text": [
      "Exact eigenvalue:    -2.143981\n",
      "Qite eigenvalue:     -2.0720 0.0930\n",
      "QLancozs eigenvalue: -2.0701 0.1389\n"
     ]
    }
   ],
   "source": [
    "print(f\"Exact eigenvalue:    {exact_eigenvalue[0]:0.6f}\")\n",
    "print(f\"Qite eigenvalue:     {qite_mean:0.4f} {qite_std:0.4f}\")\n",
    "print(f\"QLancozs eigenvalue: {qlanczos_mean:0.4f} {qlanczos_std:0.4f}\")"
   ]
  },
  {
   "cell_type": "code",
   "execution_count": 50,
   "metadata": {},
   "outputs": [
    {
     "data": {
      "text/plain": [
       "<ErrorbarContainer object of 3 artists>"
      ]
     },
     "execution_count": 50,
     "metadata": {},
     "output_type": "execute_result"
    },
    {
     "data": {
      "image/png": "[encoded data removed]",
      "text/plain": [
       "<Figure size 1152x576 with 1 Axes>"
      ]
     },
     "metadata": {},
     "output_type": "display_data"
    }
   ],
   "source": [
    "time=[t for t in range(len(qite_averages))]\n",
    "plt.errorbar(time,qite_averages,yerr=qite_stds, capsize=4, fmt='go')"
   ]
  },
  {
   "cell_type": "code",
   "execution_count": 53,
   "metadata": {},
   "outputs": [
    {
     "name": "stderr",
     "output_type": "stream",
     "text": [
      "100%|██████████| 10/10 [00:00<00:00, 4510.49it/s]"
     ]
    },
    {
     "name": "stdout",
     "output_type": "stream",
     "text": [
      "0\n",
      "1\n",
      "2\n",
      "3\n",
      "4\n",
      "5\n",
      "6\n",
      "7\n",
      "8\n",
      "9\n",
      "0\n",
      "10\n",
      "20\n",
      "30\n",
      "40\n",
      "50\n",
      "60\n",
      "70\n",
      "80\n",
      "90\n"
     ]
    },
    {
     "name": "stderr",
     "output_type": "stream",
     "text": [
      "\n"
     ]
    }
   ],
   "source": [
    "a=tqdm(range(10))\n",
    "b=range(10)\n",
    "for i in a:\n",
    "    print(i)\n",
    "for j in b:\n",
    "    print(10*j)\n"
   ]
  },
  {
   "cell_type": "code",
   "execution_count": null,
   "metadata": {},
   "outputs": [],
   "source": []
  }
 ],
 "metadata": {
  "kernelspec": {
   "display_name": "Python 3",
   "language": "python",
   "name": "python3"
  },
  "language_info": {
   "codemirror_mode": {
    "name": "ipython",
    "version": 3
   },
   "file_extension": ".py",
   "mimetype": "text/x-python",
   "name": "python",
   "nbconvert_exporter": "python",
   "pygments_lexer": "ipython3",
   "version": "3.7.5"
  }
 },
 "nbformat": 4,
 "nbformat_minor": 4
}
